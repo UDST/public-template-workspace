{
 "cells": [
  {
   "cell_type": "markdown",
   "metadata": {},
   "source": [
    "# UrbanSim Templates initialization demo\n",
    "\n",
    "Sam Maurer, July 2018\n",
    "\n",
    "This notebook tests and demonstrates the changes to initialization in UrbanSim Templates [PR#17](https://github.com/UDST/urbansim_templates/pull/17)\n",
    "\n",
    "Updated Sep 2018 with new syntax and demo data"
   ]
  },
  {
   "cell_type": "code",
   "execution_count": 1,
   "metadata": {},
   "outputs": [
    {
     "data": {
      "text/plain": [
       "'0.1.dev12'"
      ]
     },
     "execution_count": 1,
     "metadata": {},
     "output_type": "execute_result"
    }
   ],
   "source": [
    "import os\n",
    "\n",
    "import orca\n",
    "import pandas as pd\n",
    "import urbansim_templates\n",
    "\n",
    "from urbansim_templates import modelmanager\n",
    "from urbansim_templates.models import OLSRegressionStep\n",
    "\n",
    "urbansim_templates.__version__"
   ]
  },
  {
   "cell_type": "code",
   "execution_count": null,
   "metadata": {},
   "outputs": [],
   "source": []
  },
  {
   "cell_type": "markdown",
   "metadata": {},
   "source": [
    "### Initialize ModelManager\n",
    "\n",
    "Set an active directory and load previously steps from it"
   ]
  },
  {
   "cell_type": "code",
   "execution_count": 2,
   "metadata": {},
   "outputs": [
    {
     "data": {
      "text/plain": [
       "'/Users/maurer/Dropbox/Git-mbp13/udst/public-template-workspace/notebooks-sam'"
      ]
     },
     "execution_count": 2,
     "metadata": {},
     "output_type": "execute_result"
    }
   ],
   "source": [
    "os.getcwd()  "
   ]
  },
  {
   "cell_type": "code",
   "execution_count": 3,
   "metadata": {},
   "outputs": [
    {
     "name": "stdout",
     "output_type": "stream",
     "text": [
      "No yaml files found in path 'configs'\n"
     ]
    }
   ],
   "source": [
    "modelmanager.initialize()  # pass a directory name, or use default \"configs\""
   ]
  },
  {
   "cell_type": "code",
   "execution_count": null,
   "metadata": {},
   "outputs": [],
   "source": []
  },
  {
   "cell_type": "markdown",
   "metadata": {},
   "source": [
    "### Build a model step"
   ]
  },
  {
   "cell_type": "code",
   "execution_count": 4,
   "metadata": {},
   "outputs": [
    {
     "name": "stdout",
     "output_type": "stream",
     "text": [
      "                            OLS Regression Results                            \n",
      "==============================================================================\n",
      "Dep. Variable:             sale_price   R-squared:                       0.138\n",
      "Model:                            OLS   Adj. R-squared:                  0.137\n",
      "Method:                 Least Squares   F-statistic:                     77.04\n",
      "Date:                Wed, 19 Sep 2018   Prob (F-statistic):           2.95e-17\n",
      "Time:                        12:34:32   Log-Likelihood:                -7081.0\n",
      "No. Observations:                 482   AIC:                         1.417e+04\n",
      "Df Residuals:                     480   BIC:                         1.417e+04\n",
      "Df Model:                           1                                         \n",
      "Covariance Type:            nonrobust                                         \n",
      "====================================================================================\n",
      "                       coef    std err          t      P>|t|      [0.025      0.975]\n",
      "------------------------------------------------------------------------------------\n",
      "Intercept         2.054e+05   4.78e+04      4.293      0.000    1.11e+05    2.99e+05\n",
      "residential_sqft   165.5636     18.862      8.778      0.000     128.501     202.626\n",
      "==============================================================================\n",
      "Omnibus:                      496.710   Durbin-Watson:                   1.778\n",
      "Prob(Omnibus):                  0.000   Jarque-Bera (JB):            24634.252\n",
      "Skew:                           4.565   Prob(JB):                         0.00\n",
      "Kurtosis:                      36.812   Cond. No.                     4.58e+03\n",
      "==============================================================================\n",
      "\n",
      "Warnings:\n",
      "[1] Standard Errors assume that the covariance matrix of the errors is correctly specified.\n",
      "[2] The condition number is large, 4.58e+03. This might indicate that there are\n",
      "strong multicollinearity or other numerical problems.\n"
     ]
    }
   ],
   "source": [
    "url = \"https://www.dropbox.com/s/vxg5pdfzxrh6osz/buildings-demo.csv?dl=1\"\n",
    "df = pd.read_csv(url).dropna()\n",
    "orca.add_table('buildings', df)\n",
    "\n",
    "m = OLSRegressionStep()\n",
    "m.tables = ['buildings']\n",
    "m.model_expression = 'sale_price ~ residential_sqft'\n",
    "m.fit()"
   ]
  },
  {
   "cell_type": "code",
   "execution_count": null,
   "metadata": {},
   "outputs": [],
   "source": []
  },
  {
   "cell_type": "markdown",
   "metadata": {},
   "source": [
    "### Register it with ModelManager\n",
    "\n",
    "This automatically saves it to disk"
   ]
  },
  {
   "cell_type": "code",
   "execution_count": 5,
   "metadata": {},
   "outputs": [
    {
     "name": "stdout",
     "output_type": "stream",
     "text": [
      "Saving 'ols-test.yaml': /Users/maurer/Dropbox/Git-mbp13/udst/public-template-workspace/notebooks-sam/configs\n",
      "Registering model step 'ols-test'\n"
     ]
    }
   ],
   "source": [
    "m.name = 'ols-test'\n",
    "modelmanager.register(m)"
   ]
  },
  {
   "cell_type": "code",
   "execution_count": 6,
   "metadata": {},
   "outputs": [
    {
     "data": {
      "text/plain": [
       "[{'name': 'ols-test', 'template': 'OLSRegressionStep', 'tags': []}]"
      ]
     },
     "execution_count": 6,
     "metadata": {},
     "output_type": "execute_result"
    }
   ],
   "source": [
    "modelmanager.list_steps()"
   ]
  },
  {
   "cell_type": "code",
   "execution_count": null,
   "metadata": {},
   "outputs": [],
   "source": []
  },
  {
   "cell_type": "markdown",
   "metadata": {},
   "source": [
    "### Re-initialize ModelManager\n",
    "\n",
    "This is what you would do when beginning a new Python session"
   ]
  },
  {
   "cell_type": "code",
   "execution_count": 7,
   "metadata": {},
   "outputs": [
    {
     "name": "stdout",
     "output_type": "stream",
     "text": [
      "Registering model step 'ols-test'\n"
     ]
    }
   ],
   "source": [
    "modelmanager.initialize()"
   ]
  },
  {
   "cell_type": "code",
   "execution_count": null,
   "metadata": {},
   "outputs": [],
   "source": []
  },
  {
   "cell_type": "markdown",
   "metadata": {},
   "source": [
    "### Bring over the model object loaded from disk"
   ]
  },
  {
   "cell_type": "code",
   "execution_count": 8,
   "metadata": {},
   "outputs": [
    {
     "data": {
      "text/plain": [
       "urbansim_templates.models.regression.OLSRegressionStep"
      ]
     },
     "execution_count": 8,
     "metadata": {},
     "output_type": "execute_result"
    }
   ],
   "source": [
    "m = modelmanager.get_step('ols-test')\n",
    "type(m)"
   ]
  },
  {
   "cell_type": "code",
   "execution_count": 9,
   "metadata": {},
   "outputs": [
    {
     "name": "stdout",
     "output_type": "stream",
     "text": [
      "                            OLS Regression Results                            \n",
      "==============================================================================\n",
      "Dep. Variable:             sale_price   R-squared:                       0.138\n",
      "Model:                            OLS   Adj. R-squared:                  0.137\n",
      "Method:                 Least Squares   F-statistic:                     77.04\n",
      "Date:                Wed, 19 Sep 2018   Prob (F-statistic):           2.95e-17\n",
      "Time:                        12:34:32   Log-Likelihood:                -7081.0\n",
      "No. Observations:                 482   AIC:                         1.417e+04\n",
      "Df Residuals:                     480   BIC:                         1.417e+04\n",
      "Df Model:                           1                                         \n",
      "Covariance Type:            nonrobust                                         \n",
      "====================================================================================\n",
      "                       coef    std err          t      P>|t|      [0.025      0.975]\n",
      "------------------------------------------------------------------------------------\n",
      "Intercept         2.054e+05   4.78e+04      4.293      0.000    1.11e+05    2.99e+05\n",
      "residential_sqft   165.5636     18.862      8.778      0.000     128.501     202.626\n",
      "==============================================================================\n",
      "Omnibus:                      496.710   Durbin-Watson:                   1.778\n",
      "Prob(Omnibus):                  0.000   Jarque-Bera (JB):            24634.252\n",
      "Skew:                           4.565   Prob(JB):                         0.00\n",
      "Kurtosis:                      36.812   Cond. No.                     4.58e+03\n",
      "==============================================================================\n",
      "\n",
      "Warnings:\n",
      "[1] Standard Errors assume that the covariance matrix of the errors is correctly specified.\n",
      "[2] The condition number is large, 4.58e+03. This might indicate that there are\n",
      "strong multicollinearity or other numerical problems.\n"
     ]
    }
   ],
   "source": [
    "print(m.summary_table)"
   ]
  },
  {
   "cell_type": "code",
   "execution_count": null,
   "metadata": {},
   "outputs": [],
   "source": []
  },
  {
   "cell_type": "markdown",
   "metadata": {},
   "source": [
    "### Delete the model step\n",
    "\n",
    "This removes it from disk as well"
   ]
  },
  {
   "cell_type": "code",
   "execution_count": 10,
   "metadata": {},
   "outputs": [
    {
     "name": "stdout",
     "output_type": "stream",
     "text": [
      "Removing 'ols-test' and 'ols-test.yaml'\n"
     ]
    }
   ],
   "source": [
    "modelmanager.remove_step('ols-test')"
   ]
  },
  {
   "cell_type": "code",
   "execution_count": 11,
   "metadata": {},
   "outputs": [
    {
     "data": {
      "text/plain": [
       "[]"
      ]
     },
     "execution_count": 11,
     "metadata": {},
     "output_type": "execute_result"
    }
   ],
   "source": [
    "modelmanager.list_steps()"
   ]
  },
  {
   "cell_type": "code",
   "execution_count": null,
   "metadata": {},
   "outputs": [],
   "source": []
  },
  {
   "cell_type": "code",
   "execution_count": null,
   "metadata": {},
   "outputs": [],
   "source": []
  },
  {
   "cell_type": "code",
   "execution_count": null,
   "metadata": {},
   "outputs": [],
   "source": []
  }
 ],
 "metadata": {
  "kernelspec": {
   "display_name": "Python 3",
   "language": "python",
   "name": "python3"
  },
  "language_info": {
   "codemirror_mode": {
    "name": "ipython",
    "version": 3
   },
   "file_extension": ".py",
   "mimetype": "text/x-python",
   "name": "python",
   "nbconvert_exporter": "python",
   "pygments_lexer": "ipython3",
   "version": "3.6.6"
  }
 },
 "nbformat": 4,
 "nbformat_minor": 2
}
