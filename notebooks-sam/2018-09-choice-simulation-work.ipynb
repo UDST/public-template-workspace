{
 "cells": [
  {
   "cell_type": "markdown",
   "metadata": {},
   "source": [
    "# MNL choice simulation work (unconstrained)\n",
    "\n",
    "Sam Maurer, Sep 2018\n",
    "\n",
    "This notebook contains feature development and testing for ChoiceModels [PR #42](https://github.com/UDST/choicemodels/pull/42), related to [issue #26](https://github.com/UDST/choicemodels/issues/26)"
   ]
  },
  {
   "cell_type": "code",
   "execution_count": null,
   "metadata": {},
   "outputs": [],
   "source": []
  },
  {
   "cell_type": "markdown",
   "metadata": {},
   "source": [
    "### Set up some test data"
   ]
  },
  {
   "cell_type": "code",
   "execution_count": 1,
   "metadata": {},
   "outputs": [],
   "source": [
    "import numpy as np\n",
    "import pandas as pd"
   ]
  },
  {
   "cell_type": "code",
   "execution_count": 43,
   "metadata": {},
   "outputs": [],
   "source": [
    "def build_data(num_obs, num_alts):\n",
    "    \"\"\"\n",
    "    Build a simulated list of scenarios, alternatives, and probabilities\n",
    "    \n",
    "    \"\"\"\n",
    "    obs = np.repeat(np.arange(num_obs), num_alts)\n",
    "    alts = np.random.randint(0, num_alts*10, size=num_obs*num_alts)\n",
    "\n",
    "    weights = np.random.rand(num_alts, num_obs)\n",
    "    probs = weights / weights.sum(axis=0)\n",
    "    probslist = probs.flatten(order='F')\n",
    "\n",
    "    data = pd.DataFrame({'oid': obs, 'aid': alts, 'probs': probslist})\n",
    "    data = data.set_index(['oid','aid']).probs\n",
    "    return data\n",
    "\n",
    "data = build_data(5, 3)"
   ]
  },
  {
   "cell_type": "code",
   "execution_count": 44,
   "metadata": {},
   "outputs": [
    {
     "data": {
      "text/plain": [
       "oid  aid\n",
       "0    28     0.349450\n",
       "     23     0.119010\n",
       "     12     0.531540\n",
       "1    8      0.506113\n",
       "     18     0.431919\n",
       "     3      0.061968\n",
       "2    24     0.487376\n",
       "     17     0.139035\n",
       "     22     0.373589\n",
       "3    4      0.360640\n",
       "     22     0.229418\n",
       "     4      0.409942\n",
       "4    27     0.128981\n",
       "     9      0.745570\n",
       "     1      0.125449\n",
       "Name: probs, dtype: float64"
      ]
     },
     "execution_count": 44,
     "metadata": {},
     "output_type": "execute_result"
    }
   ],
   "source": [
    "data"
   ]
  },
  {
   "cell_type": "code",
   "execution_count": null,
   "metadata": {},
   "outputs": [],
   "source": []
  },
  {
   "cell_type": "markdown",
   "metadata": {},
   "source": [
    "### Simulate choices"
   ]
  },
  {
   "cell_type": "code",
   "execution_count": 4,
   "metadata": {},
   "outputs": [],
   "source": [
    "import choicemodels"
   ]
  },
  {
   "cell_type": "code",
   "execution_count": 5,
   "metadata": {},
   "outputs": [],
   "source": [
    "choices = choicemodels.tools.simulate_choices(data)"
   ]
  },
  {
   "cell_type": "code",
   "execution_count": 6,
   "metadata": {},
   "outputs": [
    {
     "data": {
      "text/plain": [
       "oid\n",
       "0    15\n",
       "1    29\n",
       "2    25\n",
       "3    14\n",
       "4    28\n",
       "Name: aid, dtype: int64"
      ]
     },
     "execution_count": 6,
     "metadata": {},
     "output_type": "execute_result"
    }
   ],
   "source": [
    "choices"
   ]
  },
  {
   "cell_type": "code",
   "execution_count": null,
   "metadata": {},
   "outputs": [],
   "source": []
  },
  {
   "cell_type": "markdown",
   "metadata": {},
   "source": [
    "### Compare performance to urbansim.urbanchoice\n",
    "\n",
    "Note that urbansim.urbanchoice combines probability generation and simulation of choices into a single function"
   ]
  },
  {
   "cell_type": "code",
   "execution_count": 7,
   "metadata": {},
   "outputs": [],
   "source": [
    "import choicemodels\n",
    "import patsy\n",
    "from urbansim.urbanchoice import mnl"
   ]
  },
  {
   "cell_type": "code",
   "execution_count": 8,
   "metadata": {},
   "outputs": [
    {
     "name": "stdout",
     "output_type": "stream",
     "text": [
      "           obsval    altval\n",
      "oid aid                    \n",
      "0   17   0.150352  0.015013\n",
      "    27   0.150352  0.086214\n",
      "    13   0.150352  0.028043\n",
      "1   11   0.732523  0.022378\n",
      "    13   0.732523  0.028043\n",
      "    6    0.732523  0.045925\n",
      "2   8    0.532549  0.737731\n",
      "    3    0.532549  0.875759\n",
      "    21   0.532549  0.673954\n",
      "3   4    0.756329  0.893739\n",
      "    25   0.756329  0.171811\n",
      "    15   0.756329  0.664476\n",
      "4   1    0.739714  0.322814\n",
      "    9    0.739714  0.946735\n",
      "    23   0.739714  0.822562\n"
     ]
    }
   ],
   "source": [
    "def build_combos(num_obs, num_alts):\n",
    "    \"\"\"\n",
    "    Build simulated list of scenarios and alternatives, with characteristics\n",
    "    but not probabilities.\n",
    "    \n",
    "    \"\"\"\n",
    "    obs = pd.DataFrame({'oid': np.arange(num_obs), \n",
    "                        'obsval': np.random.random(num_obs)}).set_index('oid')\n",
    "    \n",
    "    alts = pd.DataFrame({'aid': np.arange(num_alts*10), \n",
    "                         'altval': np.random.random(num_alts*10)}).set_index('aid')\n",
    "    \n",
    "    mct = choicemodels.tools.MergedChoiceTable(obs, alts, sample_size=num_alts)\n",
    "    return mct\n",
    "\n",
    "mct = build_combos(5, 3)\n",
    "print(mct.to_frame())"
   ]
  },
  {
   "cell_type": "code",
   "execution_count": 9,
   "metadata": {},
   "outputs": [],
   "source": [
    "mct = build_combos(1000000, 10)"
   ]
  },
  {
   "cell_type": "code",
   "execution_count": 10,
   "metadata": {},
   "outputs": [],
   "source": [
    "model_expression = 'obsval + altval - 1'\n",
    "coefs = [0.2, 0.8]"
   ]
  },
  {
   "cell_type": "code",
   "execution_count": 11,
   "metadata": {},
   "outputs": [
    {
     "name": "stdout",
     "output_type": "stream",
     "text": [
      "626 ms ± 6.58 ms per loop (mean ± std. dev. of 7 runs, 1 loop each)\n"
     ]
    }
   ],
   "source": [
    "%%timeit\n",
    "\n",
    "data = patsy.dmatrix(model_expression, data=mct.to_frame())\n",
    "choices = mnl.mnl_simulate(data, coefs, numalts=10)  # just indexes, not ids"
   ]
  },
  {
   "cell_type": "code",
   "execution_count": 12,
   "metadata": {},
   "outputs": [
    {
     "name": "stdout",
     "output_type": "stream",
     "text": [
      "1.41 s ± 416 ms per loop (mean ± std. dev. of 7 runs, 1 loop each)\n"
     ]
    }
   ],
   "source": [
    "%%timeit\n",
    "\n",
    "results = choicemodels.MultinomialLogitResults(model_expression, fitted_parameters=coefs)\n",
    "probs = results.probabilities(mct)\n",
    "choices = choicemodels.tools.simulate_choices(probs)"
   ]
  },
  {
   "cell_type": "code",
   "execution_count": null,
   "metadata": {},
   "outputs": [],
   "source": []
  },
  {
   "cell_type": "markdown",
   "metadata": {},
   "source": [
    "### What's the performance of each piece?"
   ]
  },
  {
   "cell_type": "code",
   "execution_count": 13,
   "metadata": {},
   "outputs": [],
   "source": [
    "results = choicemodels.MultinomialLogitResults(model_expression, fitted_parameters=coefs)"
   ]
  },
  {
   "cell_type": "code",
   "execution_count": 14,
   "metadata": {},
   "outputs": [
    {
     "name": "stdout",
     "output_type": "stream",
     "text": [
      "1.02 s ± 266 ms per loop (mean ± std. dev. of 7 runs, 1 loop each)\n"
     ]
    }
   ],
   "source": [
    "%%timeit\n",
    "probs = results.probabilities(mct)"
   ]
  },
  {
   "cell_type": "code",
   "execution_count": 15,
   "metadata": {},
   "outputs": [],
   "source": [
    "probs = results.probabilities(mct)"
   ]
  },
  {
   "cell_type": "code",
   "execution_count": 16,
   "metadata": {},
   "outputs": [
    {
     "name": "stdout",
     "output_type": "stream",
     "text": [
      "450 ms ± 5.69 ms per loop (mean ± std. dev. of 7 runs, 1 loop each)\n"
     ]
    }
   ],
   "source": [
    "%%timeit\n",
    "choices = choicemodels.tools.simulate_choices(probs)"
   ]
  },
  {
   "cell_type": "code",
   "execution_count": 17,
   "metadata": {},
   "outputs": [],
   "source": [
    "%load_ext line_profiler"
   ]
  },
  {
   "cell_type": "code",
   "execution_count": 18,
   "metadata": {},
   "outputs": [],
   "source": [
    "%load_ext memory_profiler"
   ]
  },
  {
   "cell_type": "code",
   "execution_count": 26,
   "metadata": {},
   "outputs": [],
   "source": [
    "%lprun -f results.probabilities results.probabilities(mct)"
   ]
  },
  {
   "cell_type": "markdown",
   "metadata": {},
   "source": [
    "70% of the execution time is getting the design matrix from patsy, actually. None of the numpy operations stand out as particularly costly."
   ]
  },
  {
   "cell_type": "code",
   "execution_count": 20,
   "metadata": {},
   "outputs": [
    {
     "name": "stdout",
     "output_type": "stream",
     "text": [
      "\n"
     ]
    }
   ],
   "source": [
    "%mprun -f results.probabilities results.probabilities(mct)"
   ]
  },
  {
   "cell_type": "markdown",
   "metadata": {},
   "source": [
    "RAM usage is reduced by having patsy return a numpy array rather than dataframe. The initial dataframe uses 1 GB of RAM, while the numpy operations use virtually nothing."
   ]
  },
  {
   "cell_type": "code",
   "execution_count": 32,
   "metadata": {},
   "outputs": [],
   "source": [
    "%lprun -f choicemodels.tools.simulate_choices choicemodels.tools.simulate_choices(probs)"
   ]
  },
  {
   "cell_type": "markdown",
   "metadata": {},
   "source": [
    "Wow - 60% of the execution time is pandas operations: getting the index values and counting the unique observations"
   ]
  },
  {
   "cell_type": "code",
   "execution_count": 22,
   "metadata": {},
   "outputs": [
    {
     "name": "stdout",
     "output_type": "stream",
     "text": [
      "CPU times: user 266 ms, sys: 60.1 ms, total: 326 ms\n",
      "Wall time: 201 ms\n"
     ]
    }
   ],
   "source": [
    "%%time\n",
    "obs = probs.index.get_level_values(0)\n",
    "alts = probs.index.get_level_values(1)"
   ]
  },
  {
   "cell_type": "code",
   "execution_count": 23,
   "metadata": {},
   "outputs": [
    {
     "name": "stdout",
     "output_type": "stream",
     "text": [
      "CPU times: user 486 ms, sys: 133 ms, total: 619 ms\n",
      "Wall time: 323 ms\n"
     ]
    }
   ],
   "source": [
    "%%time\n",
    "_ = probs.reset_index()"
   ]
  },
  {
   "cell_type": "code",
   "execution_count": 24,
   "metadata": {},
   "outputs": [
    {
     "name": "stdout",
     "output_type": "stream",
     "text": [
      "CPU times: user 307 ms, sys: 63.2 ms, total: 371 ms\n",
      "Wall time: 219 ms\n"
     ]
    },
    {
     "data": {
      "text/plain": [
       "1000000"
      ]
     },
     "execution_count": 24,
     "metadata": {},
     "output_type": "execute_result"
    }
   ],
   "source": [
    "%%time\n",
    "probs.index.get_level_values(0).unique().size"
   ]
  },
  {
   "cell_type": "code",
   "execution_count": 25,
   "metadata": {},
   "outputs": [
    {
     "name": "stdout",
     "output_type": "stream",
     "text": [
      "CPU times: user 506 ms, sys: 67.5 ms, total: 573 ms\n",
      "Wall time: 299 ms\n"
     ]
    },
    {
     "data": {
      "text/plain": [
       "1000000"
      ]
     },
     "execution_count": 25,
     "metadata": {},
     "output_type": "execute_result"
    }
   ],
   "source": [
    "%%time\n",
    "np.unique(probs.index.get_level_values(0)).size"
   ]
  },
  {
   "cell_type": "markdown",
   "metadata": {},
   "source": [
    "None of these alternatives is faster"
   ]
  },
  {
   "cell_type": "code",
   "execution_count": null,
   "metadata": {},
   "outputs": [],
   "source": []
  },
  {
   "cell_type": "code",
   "execution_count": null,
   "metadata": {},
   "outputs": [],
   "source": []
  },
  {
   "cell_type": "code",
   "execution_count": null,
   "metadata": {},
   "outputs": [],
   "source": []
  }
 ],
 "metadata": {
  "kernelspec": {
   "display_name": "Python 3",
   "language": "python",
   "name": "python3"
  },
  "language_info": {
   "codemirror_mode": {
    "name": "ipython",
    "version": 3
   },
   "file_extension": ".py",
   "mimetype": "text/x-python",
   "name": "python",
   "nbconvert_exporter": "python",
   "pygments_lexer": "ipython3",
   "version": "3.6.6"
  }
 },
 "nbformat": 4,
 "nbformat_minor": 2
}
