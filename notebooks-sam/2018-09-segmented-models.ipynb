{
 "cells": [
  {
   "cell_type": "markdown",
   "metadata": {},
   "source": [
    "# Template for segmented MNL models\n",
    "\n",
    "Sam Maurer, Sep 2018\n",
    "\n",
    "This notebook tests and demonstrates the segmented MNL models added in [UrbanSim Templates PR #45](https://github.com/UDST/urbansim_templates/pull/45)."
   ]
  },
  {
   "cell_type": "code",
   "execution_count": 1,
   "metadata": {},
   "outputs": [
    {
     "data": {
      "text/plain": [
       "'0.1.dev14'"
      ]
     },
     "execution_count": 1,
     "metadata": {},
     "output_type": "execute_result"
    }
   ],
   "source": [
    "import numpy as np\n",
    "import pandas as pd\n",
    "\n",
    "import orca\n",
    "import urbansim_templates\n",
    "\n",
    "from urbansim_templates import modelmanager\n",
    "from urbansim_templates.models import SegmentedLargeMultinomialLogitStep\n",
    "\n",
    "urbansim_templates.__version__"
   ]
  },
  {
   "cell_type": "code",
   "execution_count": null,
   "metadata": {},
   "outputs": [],
   "source": []
  },
  {
   "cell_type": "markdown",
   "metadata": {},
   "source": [
    "### Set up testing data"
   ]
  },
  {
   "cell_type": "code",
   "execution_count": 2,
   "metadata": {},
   "outputs": [
    {
     "data": {
      "text/plain": [
       "<orca.orca.DataFrameWrapper at 0x11d6c2eb8>"
      ]
     },
     "execution_count": 2,
     "metadata": {},
     "output_type": "execute_result"
    }
   ],
   "source": [
    "d1 = {'oid': np.arange(10), \n",
    "      'group': np.random.choice(['A','B','C'], size=10),\n",
    "      'obsval': np.random.random(10),\n",
    "      'choice': np.random.choice(np.arange(20), size=10)}\n",
    "\n",
    "d2 = {'aid': np.arange(20), \n",
    "      'altval': np.random.random(20)}\n",
    "\n",
    "obs = pd.DataFrame(d1).set_index('oid')\n",
    "orca.add_table('obs', obs)\n",
    "\n",
    "alts = pd.DataFrame(d2).set_index('aid')\n",
    "orca.add_table('alts', alts)"
   ]
  },
  {
   "cell_type": "code",
   "execution_count": 3,
   "metadata": {},
   "outputs": [
    {
     "data": {
      "text/html": [
       "<div>\n",
       "<style scoped>\n",
       "    .dataframe tbody tr th:only-of-type {\n",
       "        vertical-align: middle;\n",
       "    }\n",
       "\n",
       "    .dataframe tbody tr th {\n",
       "        vertical-align: top;\n",
       "    }\n",
       "\n",
       "    .dataframe thead th {\n",
       "        text-align: right;\n",
       "    }\n",
       "</style>\n",
       "<table border=\"1\" class=\"dataframe\">\n",
       "  <thead>\n",
       "    <tr style=\"text-align: right;\">\n",
       "      <th></th>\n",
       "      <th>group</th>\n",
       "      <th>obsval</th>\n",
       "      <th>choice</th>\n",
       "    </tr>\n",
       "    <tr>\n",
       "      <th>oid</th>\n",
       "      <th></th>\n",
       "      <th></th>\n",
       "      <th></th>\n",
       "    </tr>\n",
       "  </thead>\n",
       "  <tbody>\n",
       "    <tr>\n",
       "      <th>0</th>\n",
       "      <td>B</td>\n",
       "      <td>0.406087</td>\n",
       "      <td>13</td>\n",
       "    </tr>\n",
       "    <tr>\n",
       "      <th>1</th>\n",
       "      <td>A</td>\n",
       "      <td>0.888636</td>\n",
       "      <td>3</td>\n",
       "    </tr>\n",
       "    <tr>\n",
       "      <th>2</th>\n",
       "      <td>A</td>\n",
       "      <td>0.046671</td>\n",
       "      <td>6</td>\n",
       "    </tr>\n",
       "    <tr>\n",
       "      <th>3</th>\n",
       "      <td>A</td>\n",
       "      <td>0.618342</td>\n",
       "      <td>0</td>\n",
       "    </tr>\n",
       "    <tr>\n",
       "      <th>4</th>\n",
       "      <td>A</td>\n",
       "      <td>0.635820</td>\n",
       "      <td>11</td>\n",
       "    </tr>\n",
       "    <tr>\n",
       "      <th>5</th>\n",
       "      <td>A</td>\n",
       "      <td>0.612325</td>\n",
       "      <td>8</td>\n",
       "    </tr>\n",
       "    <tr>\n",
       "      <th>6</th>\n",
       "      <td>C</td>\n",
       "      <td>0.658141</td>\n",
       "      <td>9</td>\n",
       "    </tr>\n",
       "    <tr>\n",
       "      <th>7</th>\n",
       "      <td>B</td>\n",
       "      <td>0.076418</td>\n",
       "      <td>11</td>\n",
       "    </tr>\n",
       "    <tr>\n",
       "      <th>8</th>\n",
       "      <td>C</td>\n",
       "      <td>0.336237</td>\n",
       "      <td>17</td>\n",
       "    </tr>\n",
       "    <tr>\n",
       "      <th>9</th>\n",
       "      <td>C</td>\n",
       "      <td>0.635069</td>\n",
       "      <td>15</td>\n",
       "    </tr>\n",
       "  </tbody>\n",
       "</table>\n",
       "</div>"
      ],
      "text/plain": [
       "    group    obsval  choice\n",
       "oid                        \n",
       "0       B  0.406087      13\n",
       "1       A  0.888636       3\n",
       "2       A  0.046671       6\n",
       "3       A  0.618342       0\n",
       "4       A  0.635820      11\n",
       "5       A  0.612325       8\n",
       "6       C  0.658141       9\n",
       "7       B  0.076418      11\n",
       "8       C  0.336237      17\n",
       "9       C  0.635069      15"
      ]
     },
     "execution_count": 3,
     "metadata": {},
     "output_type": "execute_result"
    }
   ],
   "source": [
    "obs"
   ]
  },
  {
   "cell_type": "code",
   "execution_count": null,
   "metadata": {},
   "outputs": [],
   "source": []
  },
  {
   "cell_type": "markdown",
   "metadata": {},
   "source": [
    "### Test model features"
   ]
  },
  {
   "cell_type": "code",
   "execution_count": 4,
   "metadata": {},
   "outputs": [],
   "source": [
    "m = SegmentedLargeMultinomialLogitStep()"
   ]
  },
  {
   "cell_type": "code",
   "execution_count": 5,
   "metadata": {},
   "outputs": [],
   "source": [
    "m.defaults.choosers = 'obs'\n",
    "m.defaults.alternatives = 'alts'\n",
    "m.defaults.choice_column = 'choice'\n",
    "m.defaults.model_expression = 'obsval + altval'\n",
    "m.segmentation_column = 'group'"
   ]
  },
  {
   "cell_type": "code",
   "execution_count": 6,
   "metadata": {},
   "outputs": [
    {
     "name": "stdout",
     "output_type": "stream",
     "text": [
      "Building submodels for 3 categories: ['A' 'B' 'C']\n"
     ]
    }
   ],
   "source": [
    "m.build_submodels()"
   ]
  },
  {
   "cell_type": "code",
   "execution_count": 7,
   "metadata": {},
   "outputs": [
    {
     "name": "stdout",
     "output_type": "stream",
     "text": [
      "group == 'A'\n",
      "group == 'B'\n",
      "group == 'C'\n"
     ]
    }
   ],
   "source": [
    "for k, v in m.submodels.items():\n",
    "    print(v.chooser_filters)"
   ]
  },
  {
   "cell_type": "code",
   "execution_count": 8,
   "metadata": {},
   "outputs": [
    {
     "name": "stdout",
     "output_type": "stream",
     "text": [
      "altval\n",
      "obsval + altval\n",
      "obsval + altval\n"
     ]
    }
   ],
   "source": [
    "# Change one model expression\n",
    "\n",
    "m.submodels['A'].model_expression = 'altval'\n",
    "\n",
    "for k, v in m.submodels.items():\n",
    "    print(v.model_expression)"
   ]
  },
  {
   "cell_type": "code",
   "execution_count": 9,
   "metadata": {},
   "outputs": [
    {
     "name": "stdout",
     "output_type": "stream",
     "text": [
      "obsval + altval\n",
      "obsval + altval\n",
      "obsval + altval\n"
     ]
    }
   ],
   "source": [
    "# Reset the model expressions\n",
    "\n",
    "m.defaults.model_expression = 'obsval + altval'\n",
    "\n",
    "for k, v in m.submodels.items():\n",
    "    print(v.model_expression)"
   ]
  },
  {
   "cell_type": "code",
   "execution_count": 10,
   "metadata": {},
   "outputs": [
    {
     "name": "stdout",
     "output_type": "stream",
     "text": [
      "                  CHOICEMODELS ESTIMATION RESULTS                  \n",
      "===================================================================\n",
      "Dep. Var.:                chosen   No. Observations:              5\n",
      "Model:         Multinomial Logit   Df Residuals:                  2\n",
      "Method:       Maximum Likelihood   Df Model:                      3\n",
      "Date:                 2018-09-25   Pseudo R-squ.:             0.025\n",
      "Time:                      11:07   Pseudo R-bar-squ.:        -0.179\n",
      "AIC:                      34.703   Log-Likelihood:          -14.352\n",
      "BIC:                      33.532   LL-Null:                 -14.722\n",
      "==============================================================\n",
      "               coef   std err         z     P>|z|   Conf. Int.\n",
      "--------------------------------------------------------------\n",
      "Intercept   -0.0000     1.227    -0.000     1.000             \n",
      "obsval      -0.0000     1.681    -0.000     1.000             \n",
      "altval      -1.4399     1.644    -0.876     0.381             \n",
      "==============================================================\n",
      "                  CHOICEMODELS ESTIMATION RESULTS                  \n",
      "===================================================================\n",
      "Dep. Var.:                chosen   No. Observations:              2\n",
      "Model:         Multinomial Logit   Df Residuals:                 -1\n",
      "Method:       Maximum Likelihood   Df Model:                      3\n",
      "Date:                 2018-09-25   Pseudo R-squ.:             0.057\n",
      "Time:                      11:07   Pseudo R-bar-squ.:        -0.452\n",
      "AIC:                      17.107   Log-Likelihood:           -5.553\n",
      "BIC:                      13.186   LL-Null:                  -5.889\n",
      "==============================================================\n",
      "               coef   std err         z     P>|z|   Conf. Int.\n",
      "--------------------------------------------------------------\n",
      "Intercept   -0.0000     1.727    -0.000     1.000             \n",
      "obsval      -0.0000    15.721    -0.000     1.000             \n",
      "altval       2.0873     7.717     0.270     0.787             \n",
      "==============================================================\n",
      "                  CHOICEMODELS ESTIMATION RESULTS                  \n",
      "===================================================================\n",
      "Dep. Var.:                chosen   No. Observations:              3\n",
      "Model:         Multinomial Logit   Df Residuals:                  0\n",
      "Method:       Maximum Likelihood   Df Model:                      3\n",
      "Date:                 2018-09-25   Pseudo R-squ.:             0.107\n",
      "Time:                      11:07   Pseudo R-bar-squ.:        -0.233\n",
      "AIC:                      21.775   Log-Likelihood:           -7.888\n",
      "BIC:                      19.071   LL-Null:                  -8.833\n",
      "==============================================================\n",
      "               coef   std err         z     P>|z|   Conf. Int.\n",
      "--------------------------------------------------------------\n",
      "Intercept   -0.0000     3.185    -0.000     1.000             \n",
      "obsval      -0.0000     4.474    -0.000     1.000             \n",
      "altval       3.0373     2.427     1.252     0.211             \n",
      "==============================================================\n"
     ]
    },
    {
     "name": "stderr",
     "output_type": "stream",
     "text": [
      "/Users/maurer/Dropbox/Git-imac/udst/choicemodels/choicemodels/mnl.py:235: FutureWarning: Method .as_matrix will be removed in a future version. Use .values instead.\n",
      "  chosen = np.reshape(self._df[[self._choice_col]].as_matrix(),\n",
      "/Users/maurer/Dropbox/Git-imac/udst/choicemodels/choicemodels/mnl.py:238: FutureWarning: Method .as_matrix will be removed in a future version. Use .values instead.\n",
      "  log_lik, fit = mnl_estimate(model_design.as_matrix(), chosen, self._numalts)\n"
     ]
    }
   ],
   "source": [
    "m.fit_all()"
   ]
  },
  {
   "cell_type": "code",
   "execution_count": 11,
   "metadata": {},
   "outputs": [
    {
     "data": {
      "text/plain": [
       "{'template': 'SegmentedLargeMultinomialLogitStep',\n",
       " 'template_version': '0.1.dev14',\n",
       " 'name': 'SegmentedLargeMultinomialLogitStep-20180925-110705',\n",
       " 'tags': [],\n",
       " 'defaults': {'template': 'LargeMultinomialLogitStep',\n",
       "  'template_version': '0.1.dev14',\n",
       "  'name': None,\n",
       "  'tags': [],\n",
       "  'choosers': 'obs',\n",
       "  'alternatives': 'alts',\n",
       "  'model_expression': 'obsval + altval',\n",
       "  'choice_column': 'choice',\n",
       "  'chooser_filters': None,\n",
       "  'chooser_sample_size': None,\n",
       "  'alt_filters': None,\n",
       "  'alt_sample_size': None,\n",
       "  'out_choosers': None,\n",
       "  'out_alternatives': None,\n",
       "  'out_column': None,\n",
       "  'out_chooser_filters': None,\n",
       "  'out_alt_filters': None,\n",
       "  'summary_table': None,\n",
       "  'fitted_parameters': None},\n",
       " 'segmentation_column': 'group',\n",
       " 'submodels': {'A': {'template': 'LargeMultinomialLogitStep',\n",
       "   'template_version': '0.1.dev14',\n",
       "   'name': 'LargeMultinomialLogitStep-20180925-110705',\n",
       "   'tags': [],\n",
       "   'choosers': 'obs',\n",
       "   'alternatives': 'alts',\n",
       "   'model_expression': 'obsval + altval',\n",
       "   'choice_column': 'choice',\n",
       "   'chooser_filters': \"group == 'A'\",\n",
       "   'chooser_sample_size': None,\n",
       "   'alt_filters': None,\n",
       "   'alt_sample_size': None,\n",
       "   'out_choosers': None,\n",
       "   'out_alternatives': None,\n",
       "   'out_column': None,\n",
       "   'out_chooser_filters': None,\n",
       "   'out_alt_filters': None,\n",
       "   'summary_table': '                  CHOICEMODELS ESTIMATION RESULTS                  \\n===================================================================\\nDep. Var.:                chosen   No. Observations:              5\\nModel:         Multinomial Logit   Df Residuals:                  2\\nMethod:       Maximum Likelihood   Df Model:                      3\\nDate:                 2018-09-25   Pseudo R-squ.:             0.025\\nTime:                      11:07   Pseudo R-bar-squ.:        -0.179\\nAIC:                      34.703   Log-Likelihood:          -14.352\\nBIC:                      33.532   LL-Null:                 -14.722\\n==============================================================\\n               coef   std err         z     P>|z|   Conf. Int.\\n--------------------------------------------------------------\\nIntercept   -0.0000     1.227    -0.000     1.000             \\nobsval      -0.0000     1.681    -0.000     1.000             \\naltval      -1.4399     1.644    -0.876     0.381             \\n==============================================================',\n",
       "   'fitted_parameters': [-2.0861960304284226e-15,\n",
       "    -1.878407181857171e-15,\n",
       "    -1.439852123180218]},\n",
       "  'B': {'template': 'LargeMultinomialLogitStep',\n",
       "   'template_version': '0.1.dev14',\n",
       "   'name': 'LargeMultinomialLogitStep-20180925-110705',\n",
       "   'tags': [],\n",
       "   'choosers': 'obs',\n",
       "   'alternatives': 'alts',\n",
       "   'model_expression': 'obsval + altval',\n",
       "   'choice_column': 'choice',\n",
       "   'chooser_filters': \"group == 'B'\",\n",
       "   'chooser_sample_size': None,\n",
       "   'alt_filters': None,\n",
       "   'alt_sample_size': None,\n",
       "   'out_choosers': None,\n",
       "   'out_alternatives': None,\n",
       "   'out_column': None,\n",
       "   'out_chooser_filters': None,\n",
       "   'out_alt_filters': None,\n",
       "   'summary_table': '                  CHOICEMODELS ESTIMATION RESULTS                  \\n===================================================================\\nDep. Var.:                chosen   No. Observations:              2\\nModel:         Multinomial Logit   Df Residuals:                 -1\\nMethod:       Maximum Likelihood   Df Model:                      3\\nDate:                 2018-09-25   Pseudo R-squ.:             0.057\\nTime:                      11:07   Pseudo R-bar-squ.:        -0.452\\nAIC:                      17.107   Log-Likelihood:           -5.553\\nBIC:                      13.186   LL-Null:                  -5.889\\n==============================================================\\n               coef   std err         z     P>|z|   Conf. Int.\\n--------------------------------------------------------------\\nIntercept   -0.0000     1.727    -0.000     1.000             \\nobsval      -0.0000    15.721    -0.000     1.000             \\naltval       2.0873     7.717     0.270     0.787             \\n==============================================================',\n",
       "   'fitted_parameters': [-2.344273130829252e-14,\n",
       "    -1.7308295223199266e-15,\n",
       "    2.087307510748547]},\n",
       "  'C': {'template': 'LargeMultinomialLogitStep',\n",
       "   'template_version': '0.1.dev14',\n",
       "   'name': 'LargeMultinomialLogitStep-20180925-110705',\n",
       "   'tags': [],\n",
       "   'choosers': 'obs',\n",
       "   'alternatives': 'alts',\n",
       "   'model_expression': 'obsval + altval',\n",
       "   'choice_column': 'choice',\n",
       "   'chooser_filters': \"group == 'C'\",\n",
       "   'chooser_sample_size': None,\n",
       "   'alt_filters': None,\n",
       "   'alt_sample_size': None,\n",
       "   'out_choosers': None,\n",
       "   'out_alternatives': None,\n",
       "   'out_column': None,\n",
       "   'out_chooser_filters': None,\n",
       "   'out_alt_filters': None,\n",
       "   'summary_table': '                  CHOICEMODELS ESTIMATION RESULTS                  \\n===================================================================\\nDep. Var.:                chosen   No. Observations:              3\\nModel:         Multinomial Logit   Df Residuals:                  0\\nMethod:       Maximum Likelihood   Df Model:                      3\\nDate:                 2018-09-25   Pseudo R-squ.:             0.107\\nTime:                      11:07   Pseudo R-bar-squ.:        -0.233\\nAIC:                      21.775   Log-Likelihood:           -7.888\\nBIC:                      19.071   LL-Null:                  -8.833\\n==============================================================\\n               coef   std err         z     P>|z|   Conf. Int.\\n--------------------------------------------------------------\\nIntercept   -0.0000     3.185    -0.000     1.000             \\nobsval      -0.0000     4.474    -0.000     1.000             \\naltval       3.0373     2.427     1.252     0.211             \\n==============================================================',\n",
       "   'fitted_parameters': [-3.4227838812614415e-15,\n",
       "    -6.998212440743918e-16,\n",
       "    3.0372768339771805]}}}"
      ]
     },
     "execution_count": 11,
     "metadata": {},
     "output_type": "execute_result"
    }
   ],
   "source": [
    "m.to_dict()"
   ]
  },
  {
   "cell_type": "code",
   "execution_count": 12,
   "metadata": {},
   "outputs": [
    {
     "name": "stdout",
     "output_type": "stream",
     "text": [
      "Registering model step 'test1'\n",
      "Registering model step 'SegmentedLargeMultinomialLogitStep-20180925-104951'\n",
      "Registering model step 'SegmentedLargeMultinomialLogitStep-20180925-103111'\n",
      "Registering model step 'test2'\n"
     ]
    }
   ],
   "source": [
    "modelmanager.initialize()"
   ]
  },
  {
   "cell_type": "code",
   "execution_count": 13,
   "metadata": {},
   "outputs": [
    {
     "name": "stdout",
     "output_type": "stream",
     "text": [
      "Saving 'SegmentedLargeMultinomialLogitStep-20180925-110705.yaml': /Users/maurer/Dropbox/Git-imac/udst/public-template-workspace/notebooks-sam/configs\n",
      "Registering model step 'SegmentedLargeMultinomialLogitStep-20180925-110705'\n"
     ]
    }
   ],
   "source": [
    "modelmanager.register(m)"
   ]
  },
  {
   "cell_type": "code",
   "execution_count": 14,
   "metadata": {},
   "outputs": [
    {
     "name": "stdout",
     "output_type": "stream",
     "text": [
      "Saving 'test1.yaml': /Users/maurer/Dropbox/Git-imac/udst/public-template-workspace/notebooks-sam/configs\n",
      "Registering model step 'test1'\n",
      "Saving 'test2.yaml': /Users/maurer/Dropbox/Git-imac/udst/public-template-workspace/notebooks-sam/configs\n",
      "Registering model step 'test2'\n"
     ]
    }
   ],
   "source": [
    "m.name = 'test1'\n",
    "modelmanager.register(m)\n",
    "m2 = modelmanager.get_step('test1')\n",
    "m2.name = 'test2'\n",
    "modelmanager.register(m2)"
   ]
  },
  {
   "cell_type": "code",
   "execution_count": 15,
   "metadata": {},
   "outputs": [
    {
     "name": "stdout",
     "output_type": "stream",
     "text": [
      "Warning: Changing 'chooser_filters' can affect the model segmentation. Changes have been saved to 'defaults' but not to thesubmodels. To regenerate them using the new defaults, run 'build_submodels()'.\n"
     ]
    }
   ],
   "source": [
    "m.defaults.chooser_filters = ['test', '2']"
   ]
  },
  {
   "cell_type": "code",
   "execution_count": null,
   "metadata": {},
   "outputs": [],
   "source": []
  },
  {
   "cell_type": "code",
   "execution_count": null,
   "metadata": {},
   "outputs": [],
   "source": []
  },
  {
   "cell_type": "code",
   "execution_count": null,
   "metadata": {},
   "outputs": [],
   "source": []
  }
 ],
 "metadata": {
  "kernelspec": {
   "display_name": "Python 3",
   "language": "python",
   "name": "python3"
  },
  "language_info": {
   "codemirror_mode": {
    "name": "ipython",
    "version": 3
   },
   "file_extension": ".py",
   "mimetype": "text/x-python",
   "name": "python",
   "nbconvert_exporter": "python",
   "pygments_lexer": "ipython3",
   "version": "3.6.6"
  }
 },
 "nbformat": 4,
 "nbformat_minor": 2
}
