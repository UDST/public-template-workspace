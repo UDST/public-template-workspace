{
 "cells": [
  {
   "cell_type": "markdown",
   "metadata": {},
   "source": [
    "# Template for segmented MNL models\n",
    "\n",
    "Sam Maurer, Sep 2018\n",
    "\n",
    "This notebook tests and demonstrates the segmented MNL models added in [UrbanSim Templates PR #45](https://github.com/UDST/urbansim_templates/pull/45)."
   ]
  },
  {
   "cell_type": "code",
   "execution_count": 1,
   "metadata": {},
   "outputs": [
    {
     "data": {
      "text/plain": [
       "'0.1.dev13'"
      ]
     },
     "execution_count": 1,
     "metadata": {},
     "output_type": "execute_result"
    }
   ],
   "source": [
    "import numpy as np\n",
    "import pandas as pd\n",
    "\n",
    "import orca\n",
    "import urbansim_templates\n",
    "\n",
    "from urbansim_templates import modelmanager\n",
    "from urbansim_templates.models import SegmentedLargeMultinomialLogitStep\n",
    "\n",
    "urbansim_templates.__version__"
   ]
  },
  {
   "cell_type": "code",
   "execution_count": null,
   "metadata": {},
   "outputs": [],
   "source": []
  },
  {
   "cell_type": "markdown",
   "metadata": {},
   "source": [
    "### Set up testing data"
   ]
  },
  {
   "cell_type": "code",
   "execution_count": 2,
   "metadata": {},
   "outputs": [
    {
     "data": {
      "text/plain": [
       "<orca.orca.DataFrameWrapper at 0x1205d06a0>"
      ]
     },
     "execution_count": 2,
     "metadata": {},
     "output_type": "execute_result"
    }
   ],
   "source": [
    "d1 = {'oid': np.arange(10), \n",
    "      'group': np.random.choice(['A','B','C'], size=10),\n",
    "      'obsval': np.random.random(10),\n",
    "      'choice': np.random.choice(np.arange(20), size=10)}\n",
    "\n",
    "d2 = {'aid': np.arange(20), \n",
    "      'altval': np.random.random(20)}\n",
    "\n",
    "obs = pd.DataFrame(d1).set_index('oid')\n",
    "orca.add_table('obs', obs)\n",
    "\n",
    "alts = pd.DataFrame(d2).set_index('aid')\n",
    "orca.add_table('alts', alts)"
   ]
  },
  {
   "cell_type": "code",
   "execution_count": 3,
   "metadata": {},
   "outputs": [
    {
     "data": {
      "text/html": [
       "<div>\n",
       "<style scoped>\n",
       "    .dataframe tbody tr th:only-of-type {\n",
       "        vertical-align: middle;\n",
       "    }\n",
       "\n",
       "    .dataframe tbody tr th {\n",
       "        vertical-align: top;\n",
       "    }\n",
       "\n",
       "    .dataframe thead th {\n",
       "        text-align: right;\n",
       "    }\n",
       "</style>\n",
       "<table border=\"1\" class=\"dataframe\">\n",
       "  <thead>\n",
       "    <tr style=\"text-align: right;\">\n",
       "      <th></th>\n",
       "      <th>group</th>\n",
       "      <th>obsval</th>\n",
       "      <th>choice</th>\n",
       "    </tr>\n",
       "    <tr>\n",
       "      <th>oid</th>\n",
       "      <th></th>\n",
       "      <th></th>\n",
       "      <th></th>\n",
       "    </tr>\n",
       "  </thead>\n",
       "  <tbody>\n",
       "    <tr>\n",
       "      <th>0</th>\n",
       "      <td>A</td>\n",
       "      <td>0.829421</td>\n",
       "      <td>16</td>\n",
       "    </tr>\n",
       "    <tr>\n",
       "      <th>1</th>\n",
       "      <td>C</td>\n",
       "      <td>0.370273</td>\n",
       "      <td>10</td>\n",
       "    </tr>\n",
       "    <tr>\n",
       "      <th>2</th>\n",
       "      <td>A</td>\n",
       "      <td>0.709472</td>\n",
       "      <td>6</td>\n",
       "    </tr>\n",
       "    <tr>\n",
       "      <th>3</th>\n",
       "      <td>C</td>\n",
       "      <td>0.612958</td>\n",
       "      <td>0</td>\n",
       "    </tr>\n",
       "    <tr>\n",
       "      <th>4</th>\n",
       "      <td>B</td>\n",
       "      <td>0.274402</td>\n",
       "      <td>6</td>\n",
       "    </tr>\n",
       "    <tr>\n",
       "      <th>5</th>\n",
       "      <td>B</td>\n",
       "      <td>0.370351</td>\n",
       "      <td>9</td>\n",
       "    </tr>\n",
       "    <tr>\n",
       "      <th>6</th>\n",
       "      <td>C</td>\n",
       "      <td>0.730241</td>\n",
       "      <td>13</td>\n",
       "    </tr>\n",
       "    <tr>\n",
       "      <th>7</th>\n",
       "      <td>A</td>\n",
       "      <td>0.699012</td>\n",
       "      <td>9</td>\n",
       "    </tr>\n",
       "    <tr>\n",
       "      <th>8</th>\n",
       "      <td>C</td>\n",
       "      <td>0.627819</td>\n",
       "      <td>10</td>\n",
       "    </tr>\n",
       "    <tr>\n",
       "      <th>9</th>\n",
       "      <td>C</td>\n",
       "      <td>0.698441</td>\n",
       "      <td>1</td>\n",
       "    </tr>\n",
       "  </tbody>\n",
       "</table>\n",
       "</div>"
      ],
      "text/plain": [
       "    group    obsval  choice\n",
       "oid                        \n",
       "0       A  0.829421      16\n",
       "1       C  0.370273      10\n",
       "2       A  0.709472       6\n",
       "3       C  0.612958       0\n",
       "4       B  0.274402       6\n",
       "5       B  0.370351       9\n",
       "6       C  0.730241      13\n",
       "7       A  0.699012       9\n",
       "8       C  0.627819      10\n",
       "9       C  0.698441       1"
      ]
     },
     "execution_count": 3,
     "metadata": {},
     "output_type": "execute_result"
    }
   ],
   "source": [
    "obs"
   ]
  },
  {
   "cell_type": "code",
   "execution_count": null,
   "metadata": {},
   "outputs": [],
   "source": []
  },
  {
   "cell_type": "markdown",
   "metadata": {},
   "source": [
    "### Test model features"
   ]
  },
  {
   "cell_type": "code",
   "execution_count": 4,
   "metadata": {},
   "outputs": [],
   "source": [
    "m = SegmentedLargeMultinomialLogitStep()"
   ]
  },
  {
   "cell_type": "code",
   "execution_count": 5,
   "metadata": {},
   "outputs": [],
   "source": [
    "m.defaults.choosers = 'obs'\n",
    "m.defaults.alternatives = 'alts'\n",
    "m.defaults.choice_column = 'choice'\n",
    "m.defaults.model_expression = 'obsval + altval'\n",
    "m.segmentation_column = 'group'"
   ]
  },
  {
   "cell_type": "code",
   "execution_count": 6,
   "metadata": {},
   "outputs": [
    {
     "name": "stdout",
     "output_type": "stream",
     "text": [
      "Building submodels for 3 categories: ['A' 'B' 'C']\n"
     ]
    }
   ],
   "source": [
    "m.build_submodels()"
   ]
  },
  {
   "cell_type": "code",
   "execution_count": 13,
   "metadata": {},
   "outputs": [
    {
     "name": "stdout",
     "output_type": "stream",
     "text": [
      "group == 'A'\n",
      "group == 'B'\n",
      "group == 'C'\n"
     ]
    }
   ],
   "source": [
    "for mod in m.submodels:\n",
    "    print(mod.chooser_filters)"
   ]
  },
  {
   "cell_type": "code",
   "execution_count": 12,
   "metadata": {},
   "outputs": [
    {
     "name": "stdout",
     "output_type": "stream",
     "text": [
      "                  CHOICEMODELS ESTIMATION RESULTS                  \n",
      "===================================================================\n",
      "Dep. Var.:                chosen   No. Observations:              3\n",
      "Model:         Multinomial Logit   Df Residuals:                  0\n",
      "Method:       Maximum Likelihood   Df Model:                      3\n",
      "Date:                 2018-09-21   Pseudo R-squ.:             0.011\n",
      "Time:                      14:36   Pseudo R-bar-squ.:        -0.328\n",
      "AIC:                      23.467   Log-Likelihood:           -8.734\n",
      "BIC:                      20.763   LL-Null:                  -8.833\n",
      "==============================================================\n",
      "               coef   std err         z     P>|z|   Conf. Int.\n",
      "--------------------------------------------------------------\n",
      "Intercept   -0.0000    11.609    -0.000     1.000             \n",
      "obsval       0.0000    17.768     0.000     1.000             \n",
      "altval       0.7955     3.384     0.235     0.814             \n",
      "==============================================================\n",
      "                  CHOICEMODELS ESTIMATION RESULTS                  \n",
      "===================================================================\n",
      "Dep. Var.:                chosen   No. Observations:              2\n",
      "Model:         Multinomial Logit   Df Residuals:                 -1\n",
      "Method:       Maximum Likelihood   Df Model:                      3\n",
      "Date:                 2018-09-21   Pseudo R-squ.:             0.013\n",
      "Time:                      14:36   Pseudo R-bar-squ.:        -0.497\n",
      "AIC:                      17.630   Log-Likelihood:           -5.815\n",
      "BIC:                      13.709   LL-Null:                  -5.889\n",
      "==============================================================\n",
      "               coef   std err         z     P>|z|   Conf. Int.\n",
      "--------------------------------------------------------------\n",
      "Intercept    0.0000    12.770     0.000     1.000             \n",
      "obsval      -0.0000    31.043    -0.000     1.000             \n",
      "altval      -0.7731     7.211    -0.107     0.915             \n",
      "==============================================================\n",
      "                  CHOICEMODELS ESTIMATION RESULTS                  \n",
      "===================================================================\n",
      "Dep. Var.:                chosen   No. Observations:              5\n",
      "Model:         Multinomial Logit   Df Residuals:                  2\n",
      "Method:       Maximum Likelihood   Df Model:                      3\n",
      "Date:                 2018-09-21   Pseudo R-squ.:             0.011\n",
      "Time:                      14:36   Pseudo R-bar-squ.:        -0.193\n",
      "AIC:                      35.131   Log-Likelihood:          -14.566\n",
      "BIC:                      33.960   LL-Null:                 -14.722\n",
      "==============================================================\n",
      "               coef   std err         z     P>|z|   Conf. Int.\n",
      "--------------------------------------------------------------\n",
      "Intercept   -0.0000     2.374    -0.000     1.000             \n",
      "obsval      -0.0000     4.136    -0.000     1.000             \n",
      "altval      -0.7854     1.179    -0.666     0.505             \n",
      "==============================================================\n"
     ]
    },
    {
     "name": "stderr",
     "output_type": "stream",
     "text": [
      "/Users/maurer/Dropbox/Git-imac/udst/choicemodels/choicemodels/mnl.py:235: FutureWarning: Method .as_matrix will be removed in a future version. Use .values instead.\n",
      "  chosen = np.reshape(self._df[[self._choice_col]].as_matrix(),\n",
      "/Users/maurer/Dropbox/Git-imac/udst/choicemodels/choicemodels/mnl.py:238: FutureWarning: Method .as_matrix will be removed in a future version. Use .values instead.\n",
      "  log_lik, fit = mnl_estimate(model_design.as_matrix(), chosen, self._numalts)\n"
     ]
    }
   ],
   "source": [
    "m.fit_all()"
   ]
  },
  {
   "cell_type": "code",
   "execution_count": null,
   "metadata": {},
   "outputs": [],
   "source": []
  },
  {
   "cell_type": "code",
   "execution_count": null,
   "metadata": {},
   "outputs": [],
   "source": []
  },
  {
   "cell_type": "code",
   "execution_count": null,
   "metadata": {},
   "outputs": [],
   "source": []
  },
  {
   "cell_type": "code",
   "execution_count": null,
   "metadata": {},
   "outputs": [],
   "source": []
  },
  {
   "cell_type": "code",
   "execution_count": null,
   "metadata": {},
   "outputs": [],
   "source": []
  }
 ],
 "metadata": {
  "kernelspec": {
   "display_name": "Python 3",
   "language": "python",
   "name": "python3"
  },
  "language_info": {
   "codemirror_mode": {
    "name": "ipython",
    "version": 3
   },
   "file_extension": ".py",
   "mimetype": "text/x-python",
   "name": "python",
   "nbconvert_exporter": "python",
   "pygments_lexer": "ipython3",
   "version": "3.6.6"
  }
 },
 "nbformat": 4,
 "nbformat_minor": 2
}
