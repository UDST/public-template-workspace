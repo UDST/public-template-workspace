{
 "cells": [
  {
   "cell_type": "markdown",
   "metadata": {},
   "source": [
    "# Template for segmented MNL models\n",
    "\n",
    "Sam Maurer, Sep 2018\n",
    "\n",
    "This notebook tests and demonstrates the segmented MNL models added in [UrbanSim Templates PR #45](https://github.com/UDST/urbansim_templates/pull/45)."
   ]
  },
  {
   "cell_type": "code",
   "execution_count": 1,
   "metadata": {},
   "outputs": [
    {
     "data": {
      "text/plain": [
       "'0.1.dev14'"
      ]
     },
     "execution_count": 1,
     "metadata": {},
     "output_type": "execute_result"
    }
   ],
   "source": [
    "import numpy as np\n",
    "import pandas as pd\n",
    "\n",
    "import orca\n",
    "import urbansim_templates\n",
    "\n",
    "from urbansim_templates import modelmanager\n",
    "from urbansim_templates.models import SegmentedLargeMultinomialLogitStep\n",
    "\n",
    "urbansim_templates.__version__"
   ]
  },
  {
   "cell_type": "code",
   "execution_count": null,
   "metadata": {},
   "outputs": [],
   "source": []
  },
  {
   "cell_type": "markdown",
   "metadata": {},
   "source": [
    "### Set up testing data"
   ]
  },
  {
   "cell_type": "code",
   "execution_count": 2,
   "metadata": {},
   "outputs": [
    {
     "data": {
      "text/plain": [
       "<orca.orca.DataFrameWrapper at 0x118607ba8>"
      ]
     },
     "execution_count": 2,
     "metadata": {},
     "output_type": "execute_result"
    }
   ],
   "source": [
    "d1 = {'oid': np.arange(10), \n",
    "      'group': np.random.choice(['A','B','C'], size=10),\n",
    "      'obsval': np.random.random(10),\n",
    "      'choice': np.random.choice(np.arange(20), size=10)}\n",
    "\n",
    "d2 = {'aid': np.arange(20), \n",
    "      'altval': np.random.random(20)}\n",
    "\n",
    "obs = pd.DataFrame(d1).set_index('oid')\n",
    "orca.add_table('obs', obs)\n",
    "\n",
    "alts = pd.DataFrame(d2).set_index('aid')\n",
    "orca.add_table('alts', alts)"
   ]
  },
  {
   "cell_type": "code",
   "execution_count": 3,
   "metadata": {},
   "outputs": [
    {
     "data": {
      "text/html": [
       "<div>\n",
       "<style scoped>\n",
       "    .dataframe tbody tr th:only-of-type {\n",
       "        vertical-align: middle;\n",
       "    }\n",
       "\n",
       "    .dataframe tbody tr th {\n",
       "        vertical-align: top;\n",
       "    }\n",
       "\n",
       "    .dataframe thead th {\n",
       "        text-align: right;\n",
       "    }\n",
       "</style>\n",
       "<table border=\"1\" class=\"dataframe\">\n",
       "  <thead>\n",
       "    <tr style=\"text-align: right;\">\n",
       "      <th></th>\n",
       "      <th>group</th>\n",
       "      <th>obsval</th>\n",
       "      <th>choice</th>\n",
       "    </tr>\n",
       "    <tr>\n",
       "      <th>oid</th>\n",
       "      <th></th>\n",
       "      <th></th>\n",
       "      <th></th>\n",
       "    </tr>\n",
       "  </thead>\n",
       "  <tbody>\n",
       "    <tr>\n",
       "      <th>0</th>\n",
       "      <td>B</td>\n",
       "      <td>0.601075</td>\n",
       "      <td>0</td>\n",
       "    </tr>\n",
       "    <tr>\n",
       "      <th>1</th>\n",
       "      <td>B</td>\n",
       "      <td>0.770388</td>\n",
       "      <td>0</td>\n",
       "    </tr>\n",
       "    <tr>\n",
       "      <th>2</th>\n",
       "      <td>A</td>\n",
       "      <td>0.251365</td>\n",
       "      <td>19</td>\n",
       "    </tr>\n",
       "    <tr>\n",
       "      <th>3</th>\n",
       "      <td>A</td>\n",
       "      <td>0.538712</td>\n",
       "      <td>12</td>\n",
       "    </tr>\n",
       "    <tr>\n",
       "      <th>4</th>\n",
       "      <td>C</td>\n",
       "      <td>0.013998</td>\n",
       "      <td>13</td>\n",
       "    </tr>\n",
       "    <tr>\n",
       "      <th>5</th>\n",
       "      <td>B</td>\n",
       "      <td>0.825602</td>\n",
       "      <td>6</td>\n",
       "    </tr>\n",
       "    <tr>\n",
       "      <th>6</th>\n",
       "      <td>C</td>\n",
       "      <td>0.036147</td>\n",
       "      <td>14</td>\n",
       "    </tr>\n",
       "    <tr>\n",
       "      <th>7</th>\n",
       "      <td>A</td>\n",
       "      <td>0.215300</td>\n",
       "      <td>7</td>\n",
       "    </tr>\n",
       "    <tr>\n",
       "      <th>8</th>\n",
       "      <td>A</td>\n",
       "      <td>0.354720</td>\n",
       "      <td>1</td>\n",
       "    </tr>\n",
       "    <tr>\n",
       "      <th>9</th>\n",
       "      <td>C</td>\n",
       "      <td>0.063805</td>\n",
       "      <td>8</td>\n",
       "    </tr>\n",
       "  </tbody>\n",
       "</table>\n",
       "</div>"
      ],
      "text/plain": [
       "    group    obsval  choice\n",
       "oid                        \n",
       "0       B  0.601075       0\n",
       "1       B  0.770388       0\n",
       "2       A  0.251365      19\n",
       "3       A  0.538712      12\n",
       "4       C  0.013998      13\n",
       "5       B  0.825602       6\n",
       "6       C  0.036147      14\n",
       "7       A  0.215300       7\n",
       "8       A  0.354720       1\n",
       "9       C  0.063805       8"
      ]
     },
     "execution_count": 3,
     "metadata": {},
     "output_type": "execute_result"
    }
   ],
   "source": [
    "obs"
   ]
  },
  {
   "cell_type": "code",
   "execution_count": null,
   "metadata": {},
   "outputs": [],
   "source": []
  },
  {
   "cell_type": "markdown",
   "metadata": {},
   "source": [
    "### Test model features"
   ]
  },
  {
   "cell_type": "code",
   "execution_count": 4,
   "metadata": {},
   "outputs": [],
   "source": [
    "m = SegmentedLargeMultinomialLogitStep()"
   ]
  },
  {
   "cell_type": "code",
   "execution_count": 5,
   "metadata": {},
   "outputs": [],
   "source": [
    "m.defaults.choosers = 'obs'\n",
    "m.defaults.alternatives = 'alts'\n",
    "m.defaults.choice_column = 'choice'\n",
    "m.defaults.model_expression = 'obsval + altval'\n",
    "m.segmentation_column = 'group'"
   ]
  },
  {
   "cell_type": "code",
   "execution_count": 6,
   "metadata": {},
   "outputs": [
    {
     "name": "stdout",
     "output_type": "stream",
     "text": [
      "Building submodels for 3 categories: ['A' 'B' 'C']\n"
     ]
    }
   ],
   "source": [
    "m.build_submodels()"
   ]
  },
  {
   "cell_type": "code",
   "execution_count": 7,
   "metadata": {},
   "outputs": [
    {
     "name": "stdout",
     "output_type": "stream",
     "text": [
      "group == 'A'\n",
      "group == 'B'\n",
      "group == 'C'\n"
     ]
    }
   ],
   "source": [
    "for k, v in m.submodels.items():\n",
    "    print(v.chooser_filters)"
   ]
  },
  {
   "cell_type": "code",
   "execution_count": 8,
   "metadata": {},
   "outputs": [
    {
     "name": "stdout",
     "output_type": "stream",
     "text": [
      "altval\n",
      "obsval + altval\n",
      "obsval + altval\n"
     ]
    }
   ],
   "source": [
    "# Change one model expression\n",
    "\n",
    "m.submodels['A'].model_expression = 'altval'\n",
    "\n",
    "for k, v in m.submodels.items():\n",
    "    print(v.model_expression)"
   ]
  },
  {
   "cell_type": "code",
   "execution_count": 9,
   "metadata": {},
   "outputs": [
    {
     "name": "stdout",
     "output_type": "stream",
     "text": [
      "obsval + altval\n",
      "obsval + altval\n",
      "obsval + altval\n"
     ]
    }
   ],
   "source": [
    "# Reset the model expressions\n",
    "\n",
    "m.defaults.model_expression = 'obsval + altval'\n",
    "\n",
    "for k, v in m.submodels.items():\n",
    "    print(v.model_expression)"
   ]
  },
  {
   "cell_type": "code",
   "execution_count": 10,
   "metadata": {},
   "outputs": [
    {
     "name": "stdout",
     "output_type": "stream",
     "text": [
      "                  CHOICEMODELS ESTIMATION RESULTS                  \n",
      "===================================================================\n",
      "Dep. Var.:                chosen   No. Observations:              4\n",
      "Model:         Multinomial Logit   Df Residuals:                  1\n",
      "Method:       Maximum Likelihood   Df Model:                      3\n",
      "Date:                 2018-09-21   Pseudo R-squ.:             0.000\n",
      "Time:                      16:03   Pseudo R-bar-squ.:        -0.255\n",
      "AIC:                      29.555   Log-Likelihood:          -11.778\n",
      "BIC:                      27.714   LL-Null:                 -11.778\n",
      "==============================================================\n",
      "               coef   std err         z     P>|z|   Conf. Int.\n",
      "--------------------------------------------------------------\n",
      "Intercept   -0.0000     1.684    -0.000     1.000             \n",
      "obsval      -0.0000     4.147    -0.000     1.000             \n",
      "altval      -0.0231     2.002    -0.012     0.991             \n",
      "==============================================================\n",
      "                  CHOICEMODELS ESTIMATION RESULTS                  \n",
      "===================================================================\n",
      "Dep. Var.:                chosen   No. Observations:              3\n",
      "Model:         Multinomial Logit   Df Residuals:                  0\n",
      "Method:       Maximum Likelihood   Df Model:                      3\n",
      "Date:                 2018-09-21   Pseudo R-squ.:             0.117\n",
      "Time:                      16:03   Pseudo R-bar-squ.:        -0.223\n",
      "AIC:                      21.598   Log-Likelihood:           -7.799\n",
      "BIC:                      18.894   LL-Null:                  -8.833\n",
      "==============================================================\n",
      "               coef   std err         z     P>|z|   Conf. Int.\n",
      "--------------------------------------------------------------\n",
      "Intercept   -0.0000     8.454    -0.000     1.000             \n",
      "obsval      -0.0000     8.664    -0.000     1.000             \n",
      "altval       4.0855     4.009     1.019     0.308             \n",
      "==============================================================\n",
      "                  CHOICEMODELS ESTIMATION RESULTS                  \n",
      "===================================================================\n",
      "Dep. Var.:                chosen   No. Observations:              3\n",
      "Model:         Multinomial Logit   Df Residuals:                  0\n",
      "Method:       Maximum Likelihood   Df Model:                      3\n",
      "Date:                 2018-09-21   Pseudo R-squ.:             0.080\n",
      "Time:                      16:03   Pseudo R-bar-squ.:        -0.260\n",
      "AIC:                      22.260   Log-Likelihood:           -8.130\n",
      "BIC:                      19.556   LL-Null:                  -8.833\n",
      "==============================================================\n",
      "               coef   std err         z     P>|z|   Conf. Int.\n",
      "--------------------------------------------------------------\n",
      "Intercept    0.0000     1.619     0.000     1.000             \n",
      "obsval      -0.0000    29.199    -0.000     1.000             \n",
      "altval      -3.1911     3.263    -0.978     0.328             \n",
      "==============================================================\n"
     ]
    },
    {
     "name": "stderr",
     "output_type": "stream",
     "text": [
      "/Users/maurer/Dropbox/Git-imac/udst/choicemodels/choicemodels/mnl.py:235: FutureWarning: Method .as_matrix will be removed in a future version. Use .values instead.\n",
      "  chosen = np.reshape(self._df[[self._choice_col]].as_matrix(),\n",
      "/Users/maurer/Dropbox/Git-imac/udst/choicemodels/choicemodels/mnl.py:238: FutureWarning: Method .as_matrix will be removed in a future version. Use .values instead.\n",
      "  log_lik, fit = mnl_estimate(model_design.as_matrix(), chosen, self._numalts)\n"
     ]
    }
   ],
   "source": [
    "m.fit_all()"
   ]
  },
  {
   "cell_type": "code",
   "execution_count": null,
   "metadata": {},
   "outputs": [],
   "source": []
  },
  {
   "cell_type": "code",
   "execution_count": null,
   "metadata": {},
   "outputs": [],
   "source": []
  },
  {
   "cell_type": "code",
   "execution_count": null,
   "metadata": {},
   "outputs": [],
   "source": []
  },
  {
   "cell_type": "code",
   "execution_count": null,
   "metadata": {},
   "outputs": [],
   "source": []
  },
  {
   "cell_type": "code",
   "execution_count": null,
   "metadata": {},
   "outputs": [],
   "source": []
  }
 ],
 "metadata": {
  "kernelspec": {
   "display_name": "Python 3",
   "language": "python",
   "name": "python3"
  },
  "language_info": {
   "codemirror_mode": {
    "name": "ipython",
    "version": 3
   },
   "file_extension": ".py",
   "mimetype": "text/x-python",
   "name": "python",
   "nbconvert_exporter": "python",
   "pygments_lexer": "ipython3",
   "version": "3.6.6"
  }
 },
 "nbformat": 4,
 "nbformat_minor": 2
}
