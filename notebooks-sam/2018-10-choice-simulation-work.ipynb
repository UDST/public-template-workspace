{
 "cells": [
  {
   "cell_type": "markdown",
   "metadata": {},
   "source": [
    "# Choice simulation work\n",
    "\n",
    "Sam Maurer, October 2018\n",
    "\n",
    "This notebook contains benchmarks, feature development, and testing for ChoiceModels PR #TK, related to issue #TK."
   ]
  },
  {
   "cell_type": "code",
   "execution_count": 3,
   "metadata": {},
   "outputs": [],
   "source": [
    "import numpy as np\n",
    "import pandas as pd"
   ]
  },
  {
   "cell_type": "code",
   "execution_count": 5,
   "metadata": {},
   "outputs": [
    {
     "name": "stdout",
     "output_type": "stream",
     "text": [
      "0.2.dev3\n"
     ]
    }
   ],
   "source": [
    "import choicemodels\n",
    "print(choicemodels.__version__)"
   ]
  },
  {
   "cell_type": "code",
   "execution_count": null,
   "metadata": {},
   "outputs": [],
   "source": []
  },
  {
   "cell_type": "markdown",
   "metadata": {},
   "source": [
    "### Benchmark df.apply vs matrix math for chooser-level random draws\n",
    "\n",
    "There's no `numpy` function to perform simultaneous random draws from K distinct probability distributions, which we often need to do to simulate choices for K choosers.\n",
    "\n",
    "Fletcher wrote an implementation using matrix math for `urbansim.urbanchoice.mnl`, which I refactored and generalized in `choicemodels.tools`. \n",
    "\n",
    "But I realized that in other places, like `urbansim.models.dcm`, we use `df.apply` for similar operations. This seems cleaner and more easily maintainable, and i'm curious how the performance compares. Maybe the matrix math implementation is only needed for things like GPU acceleration?"
   ]
  },
  {
   "cell_type": "code",
   "execution_count": 1,
   "metadata": {},
   "outputs": [],
   "source": [
    "from choicemodels.tools import simulate_choices"
   ]
  },
  {
   "cell_type": "code",
   "execution_count": 12,
   "metadata": {},
   "outputs": [
    {
     "name": "stdout",
     "output_type": "stream",
     "text": [
      "oid  aid\n",
      "0    0      0.654696\n",
      "     1      0.214542\n",
      "     2      0.544699\n",
      "1    0      0.563290\n",
      "     1      0.024289\n",
      "     2      0.091644\n",
      "Name: probs, dtype: float64\n"
     ]
    }
   ],
   "source": [
    "def generate_probs(n_obs, n_alts):\n",
    "    n_obs = int(n_obs)\n",
    "    n_alts = int(n_alts)\n",
    "    \n",
    "    d = {'oid': np.repeat(np.arange(n_obs), n_alts),\n",
    "         'aid': np.tile(np.arange(n_alts), n_obs),\n",
    "         'probs': np.random.random(n_obs * n_alts)}\n",
    "\n",
    "    return pd.DataFrame(d).set_index(['oid','aid']).probs\n",
    "\n",
    "print(generate_probs(2,3))"
   ]
  },
  {
   "cell_type": "code",
   "execution_count": 28,
   "metadata": {},
   "outputs": [],
   "source": [
    "probs = generate_probs(1e4, 100)"
   ]
  },
  {
   "cell_type": "markdown",
   "metadata": {},
   "source": [
    "#### 1. Matrix implementation from choicemodels"
   ]
  },
  {
   "cell_type": "code",
   "execution_count": 29,
   "metadata": {},
   "outputs": [
    {
     "name": "stdout",
     "output_type": "stream",
     "text": [
      "10000\n",
      "CPU times: user 23.8 ms, sys: 7.6 ms, total: 31.4 ms\n",
      "Wall time: 29.6 ms\n"
     ]
    }
   ],
   "source": [
    "%%time\n",
    "c = simulate_choices(probs)\n",
    "print(len(c))"
   ]
  },
  {
   "cell_type": "markdown",
   "metadata": {},
   "source": [
    "#### 2. df.apply"
   ]
  },
  {
   "cell_type": "code",
   "execution_count": 30,
   "metadata": {},
   "outputs": [],
   "source": [
    "df = pd.DataFrame(probs).reset_index()"
   ]
  },
  {
   "cell_type": "code",
   "execution_count": 32,
   "metadata": {},
   "outputs": [
    {
     "name": "stdout",
     "output_type": "stream",
     "text": [
      "10000\n",
      "CPU times: user 2.84 s, sys: 25.6 ms, total: 2.87 s\n",
      "Wall time: 2.86 s\n"
     ]
    }
   ],
   "source": [
    "%%time\n",
    "c = df.groupby('oid').apply(lambda x: np.random.choice(x.aid, p=x.probs/x.probs.sum()))\n",
    "print(len(c))"
   ]
  },
  {
   "cell_type": "markdown",
   "metadata": {},
   "source": [
    "#### 3. Try keeping indexes to make it faster"
   ]
  },
  {
   "cell_type": "code",
   "execution_count": 36,
   "metadata": {},
   "outputs": [],
   "source": [
    "def mkchoice(probs):\n",
    "    return np.random.choice(probs.index.values, p=probs/probs.sum())"
   ]
  },
  {
   "cell_type": "code",
   "execution_count": 37,
   "metadata": {},
   "outputs": [
    {
     "name": "stdout",
     "output_type": "stream",
     "text": [
      "10000\n",
      "CPU times: user 5.02 s, sys: 67.7 ms, total: 5.09 s\n",
      "Wall time: 5.06 s\n"
     ]
    }
   ],
   "source": [
    "%%time\n",
    "c = probs.groupby(level='oid', sort=False).apply(mkchoice)\n",
    "print(len(c))"
   ]
  },
  {
   "cell_type": "markdown",
   "metadata": {},
   "source": [
    "**df.apply is way slower!! At least 100x. We should use the matrix math implementation everywhere**"
   ]
  },
  {
   "cell_type": "code",
   "execution_count": null,
   "metadata": {},
   "outputs": [],
   "source": []
  },
  {
   "cell_type": "code",
   "execution_count": null,
   "metadata": {},
   "outputs": [],
   "source": []
  },
  {
   "cell_type": "code",
   "execution_count": null,
   "metadata": {},
   "outputs": [],
   "source": []
  },
  {
   "cell_type": "code",
   "execution_count": null,
   "metadata": {},
   "outputs": [],
   "source": []
  }
 ],
 "metadata": {
  "kernelspec": {
   "display_name": "Python 3",
   "language": "python",
   "name": "python3"
  },
  "language_info": {
   "codemirror_mode": {
    "name": "ipython",
    "version": 3
   },
   "file_extension": ".py",
   "mimetype": "text/x-python",
   "name": "python",
   "nbconvert_exporter": "python",
   "pygments_lexer": "ipython3",
   "version": "3.6.6"
  }
 },
 "nbformat": 4,
 "nbformat_minor": 2
}
