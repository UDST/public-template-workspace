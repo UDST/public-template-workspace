{
 "cells": [
  {
   "cell_type": "markdown",
   "metadata": {},
   "source": [
    "### Choice simulation work\n",
    "\n",
    "Sam Maurer, October 2018\n",
    "\n",
    "This notebook contains benchmarks, feature development, and testing for ChoiceModels PR [#43](https://github.com/UDST/choicemodels/pull/43) and [#44](https://github.com/UDST/choicemodels/pull/44)"
   ]
  },
  {
   "cell_type": "code",
   "execution_count": 1,
   "metadata": {},
   "outputs": [],
   "source": [
    "import numpy as np\n",
    "import pandas as pd"
   ]
  },
  {
   "cell_type": "code",
   "execution_count": 2,
   "metadata": {},
   "outputs": [
    {
     "name": "stdout",
     "output_type": "stream",
     "text": [
      "0.2.dev4\n"
     ]
    }
   ],
   "source": [
    "import choicemodels\n",
    "print(choicemodels.__version__)"
   ]
  },
  {
   "cell_type": "code",
   "execution_count": null,
   "metadata": {},
   "outputs": [],
   "source": []
  },
  {
   "cell_type": "markdown",
   "metadata": {},
   "source": [
    "### Benchmark df.apply vs matrix math for chooser-level random draws\n",
    "\n",
    "There's no `numpy` function to perform simultaneous random draws from K distinct probability distributions, which we often need to do to simulate choices for K choosers.\n",
    "\n",
    "Fletcher wrote an implementation using matrix math for `urbansim.urbanchoice.mnl`, which I refactored and generalized in `choicemodels.tools`. \n",
    "\n",
    "But I realized that in other places, like `urbansim.models.dcm`, we use `df.apply` for similar operations. This seems cleaner and more easily maintainable, and i'm curious how the performance compares. Maybe the matrix math implementation is only needed for things like GPU acceleration?"
   ]
  },
  {
   "cell_type": "code",
   "execution_count": 4,
   "metadata": {},
   "outputs": [],
   "source": [
    "from choicemodels.tools import monte_carlo_choices"
   ]
  },
  {
   "cell_type": "code",
   "execution_count": 5,
   "metadata": {},
   "outputs": [
    {
     "name": "stdout",
     "output_type": "stream",
     "text": [
      "oid  aid\n",
      "0    0      0.290371\n",
      "     1      0.164608\n",
      "     2      0.545021\n",
      "1    0      0.324821\n",
      "     1      0.413295\n",
      "     2      0.261884\n",
      "Name: probs, dtype: float64\n"
     ]
    }
   ],
   "source": [
    "def generate_probs(n_obs, n_alts):\n",
    "    n_obs = int(n_obs)\n",
    "    n_alts = int(n_alts)\n",
    "    \n",
    "    d = {'oid': np.repeat(np.arange(n_obs), n_alts),\n",
    "         'aid': np.tile(np.arange(n_alts), n_obs),\n",
    "         'probs': np.random.random(n_obs * n_alts)}\n",
    "\n",
    "    df = pd.DataFrame(d)\n",
    "    df['probs'] = df.probs.div(df.groupby('oid').probs.transform('sum'))\n",
    "    return df.set_index(['oid','aid']).probs\n",
    "\n",
    "print(generate_probs(2,3))"
   ]
  },
  {
   "cell_type": "code",
   "execution_count": 6,
   "metadata": {},
   "outputs": [],
   "source": [
    "probs = generate_probs(1e4, 100)"
   ]
  },
  {
   "cell_type": "markdown",
   "metadata": {},
   "source": [
    "#### 1. Matrix implementation from choicemodels"
   ]
  },
  {
   "cell_type": "code",
   "execution_count": 7,
   "metadata": {},
   "outputs": [
    {
     "name": "stdout",
     "output_type": "stream",
     "text": [
      "10000\n",
      "CPU times: user 21.8 ms, sys: 4.2 ms, total: 26 ms\n",
      "Wall time: 24.3 ms\n"
     ]
    }
   ],
   "source": [
    "%%time\n",
    "c = monte_carlo_choices(probs)\n",
    "print(len(c))"
   ]
  },
  {
   "cell_type": "markdown",
   "metadata": {},
   "source": [
    "#### 2. df.apply"
   ]
  },
  {
   "cell_type": "code",
   "execution_count": 8,
   "metadata": {},
   "outputs": [],
   "source": [
    "df = pd.DataFrame(probs).reset_index()"
   ]
  },
  {
   "cell_type": "code",
   "execution_count": 9,
   "metadata": {},
   "outputs": [
    {
     "name": "stdout",
     "output_type": "stream",
     "text": [
      "10000\n",
      "CPU times: user 1.03 s, sys: 9.13 ms, total: 1.04 s\n",
      "Wall time: 1.03 s\n"
     ]
    }
   ],
   "source": [
    "%%time\n",
    "c = df.groupby('oid').apply(lambda x: np.random.choice(x.aid, p=x.probs))\n",
    "print(len(c))"
   ]
  },
  {
   "cell_type": "markdown",
   "metadata": {},
   "source": [
    "#### 3. Try keeping indexes to make it faster"
   ]
  },
  {
   "cell_type": "code",
   "execution_count": 10,
   "metadata": {},
   "outputs": [],
   "source": [
    "def mkchoice(probs):\n",
    "    return np.random.choice(probs.index.values, p=probs)"
   ]
  },
  {
   "cell_type": "code",
   "execution_count": 11,
   "metadata": {},
   "outputs": [
    {
     "name": "stdout",
     "output_type": "stream",
     "text": [
      "10000\n",
      "CPU times: user 3.21 s, sys: 25.9 ms, total: 3.24 s\n",
      "Wall time: 3.22 s\n"
     ]
    }
   ],
   "source": [
    "%%time\n",
    "c = probs.groupby(level='oid', sort=False).apply(mkchoice)\n",
    "print(len(c))"
   ]
  },
  {
   "cell_type": "markdown",
   "metadata": {},
   "source": [
    "**df.apply is way slower!! At least 50x. We should use the matrix math implementation everywhere**"
   ]
  },
  {
   "cell_type": "markdown",
   "metadata": {},
   "source": [
    "#### 4. What about np.random.choice with single probability distribution?"
   ]
  },
  {
   "cell_type": "code",
   "execution_count": 12,
   "metadata": {},
   "outputs": [],
   "source": [
    "probs = np.random.random(100)\n",
    "probs = probs/probs.sum()"
   ]
  },
  {
   "cell_type": "code",
   "execution_count": 13,
   "metadata": {},
   "outputs": [
    {
     "name": "stdout",
     "output_type": "stream",
     "text": [
      "CPU times: user 1.46 ms, sys: 1.21 ms, total: 2.67 ms\n",
      "Wall time: 1.56 ms\n"
     ]
    }
   ],
   "source": [
    "%%time\n",
    "c = np.random.choice(np.arange(100), size=int(1e4), replace=True, p=probs)"
   ]
  },
  {
   "cell_type": "markdown",
   "metadata": {},
   "source": [
    "That's the way to go when there's a single probability distribution"
   ]
  },
  {
   "cell_type": "code",
   "execution_count": null,
   "metadata": {},
   "outputs": [],
   "source": []
  },
  {
   "cell_type": "markdown",
   "metadata": {},
   "source": [
    "### Benchmark choice simulation with capacity constraints\n",
    "\n",
    "When the alternatives have capacity constraints, the fastest python approach seems to be simulate them iteratively: draw unconstrained choices, nullify the ones that exceed capacity constraints, and redraw. How much of a performance hit does this typically entail?"
   ]
  },
  {
   "cell_type": "code",
   "execution_count": 14,
   "metadata": {},
   "outputs": [],
   "source": [
    "from choicemodels.tools import MergedChoiceTable, iterative_lottery_choices, monte_carlo_choices\n",
    "from choicemodels import MultinomialLogit"
   ]
  },
  {
   "cell_type": "code",
   "execution_count": 15,
   "metadata": {},
   "outputs": [],
   "source": [
    "n_obs = int(1e6)\n",
    "n_alts = int(0.4e6)\n",
    "\n",
    "d1 = {'oid': np.arange(n_obs), \n",
    "      'obsval': np.random.random(n_obs),\n",
    "      'choice': np.random.choice(np.arange(n_alts), size=n_obs)}\n",
    "obs = pd.DataFrame(d1).set_index('oid')\n",
    "\n",
    "d2 = {'aid': np.arange(n_alts), \n",
    "      'altval': np.random.random(n_alts),\n",
    "      'capacity': np.random.choice([1,3,5], n_alts)}\n",
    "alts = pd.DataFrame(d2).set_index('aid')\n",
    "\n",
    "mct = MergedChoiceTable(obs, alts, 'choice', sample_size=10)\n",
    "m = MultinomialLogit(mct, model_expression='obsval + altval - 1')\n",
    "fitted_model = m.fit()"
   ]
  },
  {
   "cell_type": "code",
   "execution_count": 16,
   "metadata": {},
   "outputs": [],
   "source": [
    "def mct(obs, alts):\n",
    "    return MergedChoiceTable(obs, alts, sample_size=10)\n",
    "\n",
    "def probs(mct):\n",
    "    return fitted_model.probabilities(mct)"
   ]
  },
  {
   "cell_type": "markdown",
   "metadata": {},
   "source": [
    "#### Constrained, with about 20% excess capacity"
   ]
  },
  {
   "cell_type": "code",
   "execution_count": 17,
   "metadata": {},
   "outputs": [
    {
     "name": "stdout",
     "output_type": "stream",
     "text": [
      "Iteration 1: 725218 of 1000000 valid choices\n",
      "Iteration 2: 945331 of 1000000 valid choices\n",
      "Iteration 3: 995382 of 1000000 valid choices\n",
      "Iteration 4: 999954 of 1000000 valid choices\n",
      "Iteration 5: 1000000 of 1000000 valid choices\n",
      "CPU times: user 7.35 s, sys: 1.42 s, total: 8.77 s\n",
      "Wall time: 7.9 s\n"
     ]
    }
   ],
   "source": [
    "%%time\n",
    "c = iterative_lottery_choices(obs, alts, mct, probs, alt_capacity='capacity')"
   ]
  },
  {
   "cell_type": "markdown",
   "metadata": {},
   "source": [
    "#### Unconstrained"
   ]
  },
  {
   "cell_type": "code",
   "execution_count": 18,
   "metadata": {},
   "outputs": [
    {
     "name": "stdout",
     "output_type": "stream",
     "text": [
      "CPU times: user 3.24 s, sys: 703 ms, total: 3.94 s\n",
      "Wall time: 3.94 s\n"
     ]
    }
   ],
   "source": [
    "%%time\n",
    "t = mct(obs, alts)"
   ]
  },
  {
   "cell_type": "code",
   "execution_count": 19,
   "metadata": {},
   "outputs": [
    {
     "name": "stdout",
     "output_type": "stream",
     "text": [
      "CPU times: user 693 ms, sys: 132 ms, total: 825 ms\n",
      "Wall time: 576 ms\n"
     ]
    }
   ],
   "source": [
    "%%time\n",
    "p = probs(t)"
   ]
  },
  {
   "cell_type": "code",
   "execution_count": 20,
   "metadata": {},
   "outputs": [
    {
     "name": "stdout",
     "output_type": "stream",
     "text": [
      "CPU times: user 300 ms, sys: 92.7 ms, total: 392 ms\n",
      "Wall time: 391 ms\n"
     ]
    }
   ],
   "source": [
    "%%time\n",
    "c = monte_carlo_choices(p)"
   ]
  },
  {
   "cell_type": "code",
   "execution_count": null,
   "metadata": {},
   "outputs": [],
   "source": []
  },
  {
   "cell_type": "code",
   "execution_count": null,
   "metadata": {},
   "outputs": [],
   "source": []
  },
  {
   "cell_type": "code",
   "execution_count": null,
   "metadata": {},
   "outputs": [],
   "source": []
  }
 ],
 "metadata": {
  "kernelspec": {
   "display_name": "Python 3",
   "language": "python",
   "name": "python3"
  },
  "language_info": {
   "codemirror_mode": {
    "name": "ipython",
    "version": 3
   },
   "file_extension": ".py",
   "mimetype": "text/x-python",
   "name": "python",
   "nbconvert_exporter": "python",
   "pygments_lexer": "ipython3",
   "version": "3.6.6"
  }
 },
 "nbformat": 4,
 "nbformat_minor": 2
}
