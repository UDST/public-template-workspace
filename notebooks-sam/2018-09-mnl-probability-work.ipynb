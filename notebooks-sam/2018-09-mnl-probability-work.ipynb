{
 "cells": [
  {
   "cell_type": "markdown",
   "metadata": {},
   "source": [
    "# MNL probability work\n",
    "\n",
    "Sam Maurer, Sep 2018\n",
    "\n",
    "This notebook is for feature development related to ChoiceModels [issue #26](https://github.com/UDST/choicemodels/issues/26)"
   ]
  },
  {
   "cell_type": "code",
   "execution_count": null,
   "metadata": {},
   "outputs": [],
   "source": []
  },
  {
   "cell_type": "markdown",
   "metadata": {},
   "source": [
    "### Set up an MNL model using fake data"
   ]
  },
  {
   "cell_type": "code",
   "execution_count": 1,
   "metadata": {},
   "outputs": [],
   "source": [
    "import orca\n",
    "import numpy as np\n",
    "import pandas as pd\n",
    "\n",
    "from urbansim_templates import modelmanager as mm\n",
    "from urbansim_templates.models import LargeMultinomialLogitStep"
   ]
  },
  {
   "cell_type": "code",
   "execution_count": 6,
   "metadata": {},
   "outputs": [
    {
     "data": {
      "text/plain": [
       "<orca.orca.DataFrameWrapper at 0x10f6746d8>"
      ]
     },
     "execution_count": 6,
     "metadata": {},
     "output_type": "execute_result"
    }
   ],
   "source": [
    "d1 = {'oid': np.arange(100), \n",
    "      'obsval': np.random.random(100),\n",
    "      'choice': np.random.choice(np.arange(20), size=100)}\n",
    "\n",
    "d2 = {'aid': np.arange(20), \n",
    "      'altval': np.random.random(20)}\n",
    "\n",
    "obs = pd.DataFrame(d1).set_index('oid')\n",
    "orca.add_table('obs', obs)\n",
    "\n",
    "alts = pd.DataFrame(d2).set_index('aid')\n",
    "orca.add_table('alts', alts)"
   ]
  },
  {
   "cell_type": "code",
   "execution_count": 7,
   "metadata": {},
   "outputs": [
    {
     "name": "stdout",
     "output_type": "stream",
     "text": [
      "No yaml files found in path 'configs'\n"
     ]
    }
   ],
   "source": [
    "mm.initialize()"
   ]
  },
  {
   "cell_type": "code",
   "execution_count": 8,
   "metadata": {},
   "outputs": [
    {
     "name": "stdout",
     "output_type": "stream",
     "text": [
      "                  CHOICEMODELS ESTIMATION RESULTS                  \n",
      "===================================================================\n",
      "Dep. Var.:                chosen   No. Observations:            100\n",
      "Model:         Multinomial Logit   Df Residuals:                 98\n",
      "Method:       Maximum Likelihood   Df Model:                      2\n",
      "Date:                 2018-09-11   Pseudo R-squ.:             0.000\n",
      "Time:                      11:07   Pseudo R-bar-squ.:        -0.007\n",
      "AIC:                     592.880   Log-Likelihood:         -294.440\n",
      "BIC:                     598.090   LL-Null:                -294.444\n",
      "============================================================\n",
      "             coef   std err         z     P>|z|   Conf. Int.\n",
      "------------------------------------------------------------\n",
      "obsval     0.0000     0.272     0.000     1.000             \n",
      "altval    -0.0317     0.273    -0.116     0.908             \n",
      "============================================================\n"
     ]
    },
    {
     "name": "stderr",
     "output_type": "stream",
     "text": [
      "/Users/maurer/Dropbox/Git-mbp13/udst/choicemodels/choicemodels/mnl.py:233: FutureWarning: Method .as_matrix will be removed in a future version. Use .values instead.\n",
      "  chosen = np.reshape(self._df[[self._choice_col]].as_matrix(),\n",
      "/Users/maurer/Dropbox/Git-mbp13/udst/choicemodels/choicemodels/mnl.py:236: FutureWarning: Method .as_matrix will be removed in a future version. Use .values instead.\n",
      "  log_lik, fit = mnl_estimate(model_design.as_matrix(), chosen, self._numalts)\n"
     ]
    }
   ],
   "source": [
    "m = LargeMultinomialLogitStep()\n",
    "m.choosers = 'obs'\n",
    "m.alternatives = 'alts'\n",
    "m.choice_column = 'choice'\n",
    "m.model_expression = 'obsval + altval - 1'\n",
    "\n",
    "m.fit()"
   ]
  },
  {
   "cell_type": "code",
   "execution_count": null,
   "metadata": {},
   "outputs": [],
   "source": []
  },
  {
   "cell_type": "markdown",
   "metadata": {},
   "source": [
    "### Refactor MNL probability calculations\n",
    "\n",
    "These are moving from a set of functions in `urbansim.urbanchoice.mnl` to a method of the `choicemodels.MultinomialLogitResults` class. It's easy to create a results class from a model expression and list of fitted coefficients, if a user needs to get probabilities extemporaneously."
   ]
  },
  {
   "cell_type": "code",
   "execution_count": null,
   "metadata": {},
   "outputs": [],
   "source": []
  },
  {
   "cell_type": "code",
   "execution_count": null,
   "metadata": {},
   "outputs": [],
   "source": []
  },
  {
   "cell_type": "code",
   "execution_count": null,
   "metadata": {},
   "outputs": [],
   "source": []
  },
  {
   "cell_type": "code",
   "execution_count": null,
   "metadata": {},
   "outputs": [],
   "source": []
  },
  {
   "cell_type": "code",
   "execution_count": null,
   "metadata": {},
   "outputs": [],
   "source": []
  }
 ],
 "metadata": {
  "kernelspec": {
   "display_name": "Python 3",
   "language": "python",
   "name": "python3"
  },
  "language_info": {
   "codemirror_mode": {
    "name": "ipython",
    "version": 3
   },
   "file_extension": ".py",
   "mimetype": "text/x-python",
   "name": "python",
   "nbconvert_exporter": "python",
   "pygments_lexer": "ipython3",
   "version": "3.6.6"
  }
 },
 "nbformat": 4,
 "nbformat_minor": 2
}
