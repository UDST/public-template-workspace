{
 "cells": [
  {
   "cell_type": "markdown",
   "metadata": {},
   "source": [
    "# MNL probability work\n",
    "\n",
    "Sam Maurer, Sep 2018\n",
    "\n",
    "This notebook is for feature development related to ChoiceModels [issue #26](https://github.com/UDST/choicemodels/issues/26)"
   ]
  },
  {
   "cell_type": "code",
   "execution_count": null,
   "metadata": {},
   "outputs": [],
   "source": []
  },
  {
   "cell_type": "markdown",
   "metadata": {},
   "source": [
    "### Set up an MNL model using fake data"
   ]
  },
  {
   "cell_type": "code",
   "execution_count": 1,
   "metadata": {},
   "outputs": [],
   "source": [
    "import numpy as np\n",
    "import pandas as pd\n",
    "\n",
    "import orca\n",
    "\n",
    "from urbansim_templates import modelmanager as mm\n",
    "from urbansim_templates.models import LargeMultinomialLogitStep"
   ]
  },
  {
   "cell_type": "code",
   "execution_count": 2,
   "metadata": {},
   "outputs": [
    {
     "data": {
      "text/plain": [
       "<orca.orca.DataFrameWrapper at 0x11a8edf98>"
      ]
     },
     "execution_count": 2,
     "metadata": {},
     "output_type": "execute_result"
    }
   ],
   "source": [
    "d1 = {'oid': np.arange(100), \n",
    "      'obsval': np.random.random(100),\n",
    "      'choice': np.random.choice(np.arange(3), size=100)}\n",
    "\n",
    "d2 = {'aid': np.arange(3), \n",
    "      'altval': np.random.random(3)}\n",
    "\n",
    "obs = pd.DataFrame(d1).set_index('oid')\n",
    "orca.add_table('obs', obs)\n",
    "\n",
    "alts = pd.DataFrame(d2).set_index('aid')\n",
    "orca.add_table('alts', alts)"
   ]
  },
  {
   "cell_type": "code",
   "execution_count": 3,
   "metadata": {},
   "outputs": [
    {
     "name": "stdout",
     "output_type": "stream",
     "text": [
      "No yaml files found in path 'configs'\n"
     ]
    }
   ],
   "source": [
    "mm.initialize()"
   ]
  },
  {
   "cell_type": "code",
   "execution_count": 4,
   "metadata": {},
   "outputs": [
    {
     "name": "stdout",
     "output_type": "stream",
     "text": [
      "                  CHOICEMODELS ESTIMATION RESULTS                  \n",
      "===================================================================\n",
      "Dep. Var.:                chosen   No. Observations:            100\n",
      "Model:         Multinomial Logit   Df Residuals:                 98\n",
      "Method:       Maximum Likelihood   Df Model:                      2\n",
      "Date:                 2018-09-11   Pseudo R-squ.:             0.002\n",
      "Time:                      14:42   Pseudo R-bar-squ.:        -0.027\n",
      "AIC:                     142.388   Log-Likelihood:          -69.194\n",
      "BIC:                     147.598   LL-Null:                 -69.315\n",
      "============================================================\n",
      "             coef   std err         z     P>|z|   Conf. Int.\n",
      "------------------------------------------------------------\n",
      "obsval     0.0000     0.354     0.000     1.000             \n",
      "altval    -0.2342     0.328    -0.713     0.476             \n",
      "============================================================\n"
     ]
    },
    {
     "name": "stderr",
     "output_type": "stream",
     "text": [
      "/Users/maurer/Dropbox/Git-mbp13/udst/choicemodels/choicemodels/mnl.py:236: FutureWarning: Method .as_matrix will be removed in a future version. Use .values instead.\n",
      "  chosen = np.reshape(self._df[[self._choice_col]].as_matrix(),\n",
      "/Users/maurer/Dropbox/Git-mbp13/udst/choicemodels/choicemodels/mnl.py:239: FutureWarning: Method .as_matrix will be removed in a future version. Use .values instead.\n",
      "  log_lik, fit = mnl_estimate(model_design.as_matrix(), chosen, self._numalts)\n"
     ]
    }
   ],
   "source": [
    "m = LargeMultinomialLogitStep()\n",
    "m.choosers = 'obs'\n",
    "m.alternatives = 'alts'\n",
    "m.choice_column = 'choice'\n",
    "m.model_expression = 'obsval + altval - 1'\n",
    "\n",
    "m.fit()"
   ]
  },
  {
   "cell_type": "code",
   "execution_count": 5,
   "metadata": {},
   "outputs": [
    {
     "data": {
      "text/plain": [
       "[1.3935816521953695e-16, -0.23421124250743391]"
      ]
     },
     "execution_count": 5,
     "metadata": {},
     "output_type": "execute_result"
    }
   ],
   "source": [
    "m.fitted_parameters"
   ]
  },
  {
   "cell_type": "code",
   "execution_count": null,
   "metadata": {},
   "outputs": [],
   "source": []
  },
  {
   "cell_type": "markdown",
   "metadata": {},
   "source": [
    "### Refactor MNL probability calculations\n",
    "\n",
    "These are moving from a set of functions in `urbansim.urbanchoice.mnl` to a method of the `choicemodels.MultinomialLogitResults` class."
   ]
  },
  {
   "cell_type": "code",
   "execution_count": 6,
   "metadata": {},
   "outputs": [],
   "source": [
    "import choicemodels\n",
    "from urbansim.urbanchoice import mnl\n",
    "\n",
    "import patsy"
   ]
  },
  {
   "cell_type": "code",
   "execution_count": 7,
   "metadata": {},
   "outputs": [
    {
     "name": "stdout",
     "output_type": "stream",
     "text": [
      "10\n",
      "           obsval  choice    altval\n",
      "oid aid                            \n",
      "0   0    0.323629       2  0.718287\n",
      "    2    0.323629       2  0.748681\n",
      "    1    0.323629       2  0.079932\n",
      "    1    0.323629       2  0.079932\n",
      "    1    0.323629       2  0.079932\n"
     ]
    }
   ],
   "source": [
    "mct = choicemodels.tools.MergedChoiceTable(obs[:2], alts, sample_size=5)\n",
    "print(len(mct.to_frame()))\n",
    "print(mct.to_frame().head())"
   ]
  },
  {
   "cell_type": "code",
   "execution_count": 8,
   "metadata": {},
   "outputs": [],
   "source": [
    "# Get probabilities using urbansim.urbanchoice.mnl\n",
    "\n",
    "dm = patsy.dmatrix(m.model_expression, data=mct.to_frame(),\n",
    "                   return_type='dataframe')\n",
    "\n",
    "probs = mnl.mnl_simulate(data=dm, coeff=m.fitted_parameters,\n",
    "                         numalts=mct.sample_size, returnprobs=True)\n",
    "\n",
    "df = mct.to_frame()\n",
    "df['prob'] = np.reshape(probs, (probs.size, 1))"
   ]
  },
  {
   "cell_type": "code",
   "execution_count": 9,
   "metadata": {},
   "outputs": [
    {
     "data": {
      "text/html": [
       "<div>\n",
       "<style scoped>\n",
       "    .dataframe tbody tr th:only-of-type {\n",
       "        vertical-align: middle;\n",
       "    }\n",
       "\n",
       "    .dataframe tbody tr th {\n",
       "        vertical-align: top;\n",
       "    }\n",
       "\n",
       "    .dataframe thead th {\n",
       "        text-align: right;\n",
       "    }\n",
       "</style>\n",
       "<table border=\"1\" class=\"dataframe\">\n",
       "  <thead>\n",
       "    <tr style=\"text-align: right;\">\n",
       "      <th></th>\n",
       "      <th></th>\n",
       "      <th>obsval</th>\n",
       "      <th>choice</th>\n",
       "      <th>altval</th>\n",
       "      <th>prob</th>\n",
       "    </tr>\n",
       "    <tr>\n",
       "      <th>oid</th>\n",
       "      <th>aid</th>\n",
       "      <th></th>\n",
       "      <th></th>\n",
       "      <th></th>\n",
       "      <th></th>\n",
       "    </tr>\n",
       "  </thead>\n",
       "  <tbody>\n",
       "    <tr>\n",
       "      <th rowspan=\"5\" valign=\"top\">0</th>\n",
       "      <th>0</th>\n",
       "      <td>0.323629</td>\n",
       "      <td>2</td>\n",
       "      <td>0.718287</td>\n",
       "      <td>0.182592</td>\n",
       "    </tr>\n",
       "    <tr>\n",
       "      <th>2</th>\n",
       "      <td>0.323629</td>\n",
       "      <td>2</td>\n",
       "      <td>0.748681</td>\n",
       "      <td>0.181296</td>\n",
       "    </tr>\n",
       "    <tr>\n",
       "      <th>1</th>\n",
       "      <td>0.323629</td>\n",
       "      <td>2</td>\n",
       "      <td>0.079932</td>\n",
       "      <td>0.212037</td>\n",
       "    </tr>\n",
       "    <tr>\n",
       "      <th>1</th>\n",
       "      <td>0.323629</td>\n",
       "      <td>2</td>\n",
       "      <td>0.079932</td>\n",
       "      <td>0.212037</td>\n",
       "    </tr>\n",
       "    <tr>\n",
       "      <th>1</th>\n",
       "      <td>0.323629</td>\n",
       "      <td>2</td>\n",
       "      <td>0.079932</td>\n",
       "      <td>0.212037</td>\n",
       "    </tr>\n",
       "  </tbody>\n",
       "</table>\n",
       "</div>"
      ],
      "text/plain": [
       "           obsval  choice    altval      prob\n",
       "oid aid                                      \n",
       "0   0    0.323629       2  0.718287  0.182592\n",
       "    2    0.323629       2  0.748681  0.181296\n",
       "    1    0.323629       2  0.079932  0.212037\n",
       "    1    0.323629       2  0.079932  0.212037\n",
       "    1    0.323629       2  0.079932  0.212037"
      ]
     },
     "execution_count": 9,
     "metadata": {},
     "output_type": "execute_result"
    }
   ],
   "source": [
    "df.head()"
   ]
  },
  {
   "cell_type": "code",
   "execution_count": 10,
   "metadata": {},
   "outputs": [],
   "source": [
    "# Refactored codebase\n",
    "\n",
    "results = choicemodels.MultinomialLogitResults('ChoiceModels', \n",
    "                m.model_expression, fitted_parameters=m.fitted_parameters)\n",
    "\n",
    "probs = results.probabilities(mct)"
   ]
  },
  {
   "cell_type": "code",
   "execution_count": 11,
   "metadata": {},
   "outputs": [
    {
     "data": {
      "text/plain": [
       "oid  aid\n",
       "0    0      0.182592\n",
       "     2      0.181296\n",
       "     1      0.212037\n",
       "     1      0.212037\n",
       "     1      0.212037\n",
       "1    1      0.218470\n",
       "     2      0.186797\n",
       "     0      0.188131\n",
       "     1      0.218470\n",
       "     0      0.188131\n",
       "Name: prob, dtype: float64"
      ]
     },
     "execution_count": 11,
     "metadata": {},
     "output_type": "execute_result"
    }
   ],
   "source": [
    "probs"
   ]
  },
  {
   "cell_type": "code",
   "execution_count": null,
   "metadata": {},
   "outputs": [],
   "source": []
  },
  {
   "cell_type": "markdown",
   "metadata": {},
   "source": [
    "### Check performance"
   ]
  },
  {
   "cell_type": "code",
   "execution_count": 15,
   "metadata": {},
   "outputs": [],
   "source": [
    "d1 = {'oid': np.arange(1000000), \n",
    "      'obsval': np.random.random(1000000)}\n",
    "\n",
    "test_obs = pd.DataFrame(d1).set_index('oid')"
   ]
  },
  {
   "cell_type": "code",
   "execution_count": 19,
   "metadata": {},
   "outputs": [
    {
     "name": "stdout",
     "output_type": "stream",
     "text": [
      "10000000\n",
      "           obsval    altval\n",
      "oid aid                    \n",
      "0   2    0.656677  0.748681\n",
      "    1    0.656677  0.079932\n",
      "    0    0.656677  0.718287\n",
      "    2    0.656677  0.748681\n",
      "    1    0.656677  0.079932\n"
     ]
    }
   ],
   "source": [
    "mct = choicemodels.tools.MergedChoiceTable(test_obs, alts, sample_size=10)\n",
    "print(len(mct.to_frame()))\n",
    "print(mct.to_frame().head())"
   ]
  },
  {
   "cell_type": "code",
   "execution_count": 20,
   "metadata": {},
   "outputs": [
    {
     "name": "stdout",
     "output_type": "stream",
     "text": [
      "CPU times: user 907 ms, sys: 412 ms, total: 1.32 s\n",
      "Wall time: 1.2 s\n"
     ]
    }
   ],
   "source": [
    "%%time\n",
    "\n",
    "dm = patsy.dmatrix(m.model_expression, data=mct.to_frame(),\n",
    "                   return_type='dataframe')\n",
    "\n",
    "probs = mnl.mnl_simulate(data=dm, coeff=m.fitted_parameters,\n",
    "                         numalts=mct.sample_size, returnprobs=True)\n",
    "\n",
    "df = mct.to_frame()\n",
    "df['prob'] = np.reshape(probs, (probs.size, 1))"
   ]
  },
  {
   "cell_type": "code",
   "execution_count": 21,
   "metadata": {},
   "outputs": [
    {
     "name": "stdout",
     "output_type": "stream",
     "text": [
      "CPU times: user 1.01 s, sys: 432 ms, total: 1.44 s\n",
      "Wall time: 1.37 s\n"
     ]
    }
   ],
   "source": [
    "%%time\n",
    "\n",
    "probs = results.probabilities(mct)"
   ]
  },
  {
   "cell_type": "code",
   "execution_count": null,
   "metadata": {},
   "outputs": [],
   "source": []
  },
  {
   "cell_type": "code",
   "execution_count": null,
   "metadata": {},
   "outputs": [],
   "source": []
  },
  {
   "cell_type": "code",
   "execution_count": null,
   "metadata": {},
   "outputs": [],
   "source": []
  }
 ],
 "metadata": {
  "kernelspec": {
   "display_name": "Python 3",
   "language": "python",
   "name": "python3"
  },
  "language_info": {
   "codemirror_mode": {
    "name": "ipython",
    "version": 3
   },
   "file_extension": ".py",
   "mimetype": "text/x-python",
   "name": "python",
   "nbconvert_exporter": "python",
   "pygments_lexer": "ipython3",
   "version": "3.6.6"
  }
 },
 "nbformat": 4,
 "nbformat_minor": 2
}
